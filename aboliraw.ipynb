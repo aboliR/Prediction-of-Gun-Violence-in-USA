{
 "cells": [
  {
   "cell_type": "markdown",
   "metadata": {},
   "source": [
    "#  Project 1 Phase 1"
   ]
  },
  {
   "cell_type": "markdown",
   "metadata": {},
   "source": [
    "#                                  Can Gun Violence In United States be controlled?"
   ]
  },
  {
   "cell_type": "markdown",
   "metadata": {},
   "source": [
    "Course Name : Data Intensive Computing\n",
    "Phase : 1\n",
    "Term Project Name : Gun Violence In United States"
   ]
  },
  {
   "cell_type": "markdown",
   "metadata": {},
   "source": [
    "**Problem Statement :** Gun violence has become a grim reality of life in the United States. According to data from the Pew Research Center, 44 percent of Americans say that they know someone who has been shot, and another 23 percent report that a gun has been used to threaten or intimidate them or a family member. United States ranks higher than many other developed countries when it comes to gun violence. Right from child to adult, every age group is involved in these crimes. Are the lenient laws are responsible for increasing number of gun violence? Is getting gun without a permit adding up to the increased numbers of crime?\n",
    "There are many such questions we would like to find solution on. As this is one of the major factor inhibiting growth of US, we have to think on this.\n",
    "\n",
    "\n",
    "Here are some questions we want to answer.\n",
    "\n",
    "1. Which state has the highest number of gun violence crimes?\n",
    "2. Which age group is vulnerable to participate in this crime?\n",
    "3. How does requiring permits for guns affect gun violence?(general strictness)\n",
    "4. Is the news getting reported from an authentic source?\n",
    "5. Which region of a specific state has the most number of these crimes?\n",
    "6. How many people get injured/killed by this incident?\n",
    "9. Are the incidents reported from authentic sources?\n",
    "10. Does gun laws result in the least amount of violent crime by state?\n",
    "11. How does the total amount of gun laws affect gun violence by state?\n",
    "12. Does adding stricter punishment for gunviolence and illegal gun ownership deter gun violence?\n",
    "13. What specific guns are most responsible for mass shootings\n",
    "14. Does pushing the sale for long gun owner ship from 18 to 21 affect gun violence?\n",
    "\n",
    "\n",
    "**Name of the data :** Gun Violence In United States\n",
    "\n",
    "\n",
    "**Background:**\n",
    "Source: Data world and Kaggle\n",
    "Time Period: 2013-2017\n",
    "Scope (if there is please specified): United States\n",
    "Data Unit: State and City"
   ]
  },
  {
   "cell_type": "markdown",
   "metadata": {},
   "source": [
    "**Introduction To Dataset:** \n",
    "**Dataset1(Gun Violence) - 29 columns**\n",
    "\n",
    "Dataset1 columns: 'incident_id', 'date', 'state', 'city_or_county', 'address', 'n_killed',\n",
    "       'n_injured', 'incident_url', 'source_url',\n",
    "       'incident_url_fields_missing', 'congressional_district', 'gun_stolen',\n",
    "       'gun_type', 'incident_characteristics', 'latitude',\n",
    "       'location_description', 'longitude', 'n_guns_involved', 'notes',\n",
    "       'participant_age', 'participant_age_group', 'participant_gender',\n",
    "       'participant_name', 'participant_relationship', 'participant_status',\n",
    "       'participant_type', 'sources', 'state_house_district',\n",
    "       'state_senate_district'\n",
    "       \n",
    "       \n",
    "**Dataset2(Firearm Laws) - 136 columns**  \n",
    "Dataset2 columns : \n",
    "'state',\n",
    " 'year',\n",
    " 'felony',\n",
    " 'invcommitment',\n",
    " 'invoutpatient',\n",
    " 'danger',\n",
    " 'drugmisdemeanor',\n",
    " 'alctreatment',\n",
    " 'alcoholism',\n",
    " 'violent',\n",
    " 'violenth',\n",
    " 'violentpartial',\n",
    " 'dealer',\n",
    " 'dealerh',\n",
    " 'recordsall',\n",
    " 'recordsallh',\n",
    " 'recordsdealer',\n",
    " 'recordsdealerh',\n",
    " 'reportall',\n",
    " 'reportallh',\n",
    " 'reportdealer',\n",
    " 'reportdealerh',\n",
    " 'purge',\n",
    " 'residential',\n",
    " 'theft',\n",
    " 'security',\n",
    " 'inspection',\n",
    " 'ammlicense',\n",
    " 'ammrecords',\n",
    " 'permit',\n",
    " 'permith',\n",
    " 'fingerprint',\n",
    " 'training',\n",
    " 'permitlaw',\n",
    " 'registration',\n",
    " 'registrationh',\n",
    " 'defactoreg',\n",
    " 'defactoregh',\n",
    " 'ammpermit',\n",
    " 'ammrestrict',\n",
    " 'age21handgunsale',\n",
    " 'age18longgunsale',\n",
    " 'age21longgunsaled',\n",
    " 'age21longgunsale',\n",
    " 'age21handgunpossess',\n",
    " 'age18longgunpossess',\n",
    " 'age21longgunpossess',\n",
    " 'loststolen',\n",
    " 'amm18',\n",
    " 'amm21h',\n",
    " 'universal',\n",
    " 'universalh',\n",
    " 'gunshow',\n",
    " 'gunshowh',\n",
    " 'universalpermit',\n",
    " 'universalpermith',\n",
    " 'backgroundpurge',\n",
    " 'ammbackground',\n",
    " 'threedaylimit',\n",
    " 'mentalhealth',\n",
    " 'statechecks',\n",
    " 'statechecksh',\n",
    " 'waiting',\n",
    " 'waitingh',\n",
    " 'assault',\n",
    " 'onefeature',\n",
    " 'assaultlist',\n",
    " 'assaultregister',\n",
    " 'assaulttransfer',\n",
    " 'magazine',\n",
    " 'tenroundlimit',\n",
    " 'magazinepreowned',\n",
    " 'onepermonth',\n",
    " 'traffickingbackground',\n",
    " 'traffickingprohibited',\n",
    " 'traffickingprohibitedh',\n",
    " 'strawpurchase',\n",
    " 'strawpurchaseh',\n",
    " 'microstamp',\n",
    " 'gvro',\n",
    " 'gvrolawenforcement',\n",
    " 'college',\n",
    " 'collegeconcealed',\n",
    " 'elementary',\n",
    " 'opencarryh',\n",
    " 'opencarryl',\n",
    " 'opencarrypermith',\n",
    " 'opencarrypermitl',\n",
    " 'permitconcealed',\n",
    " 'mayissue',\n",
    " 'showing',\n",
    " 'ccbackground',\n",
    " 'ccbackgroundnics',\n",
    " 'ccrenewbackground',\n",
    " 'ccrevoke',\n",
    " 'nosyg',\n",
    " 'personalized',\n",
    " 'lockd',\n",
    " 'lockp',\n",
    " 'locked',\n",
    " 'lockstandards',\n",
    " 'capliability',\n",
    " 'capaccess',\n",
    " 'capuses',\n",
    " 'capunloaded',\n",
    " 'cap18',\n",
    " 'cap16',\n",
    " 'cap14',\n",
    " 'junkgun',\n",
    " 'liability',\n",
    " 'immunity',\n",
    " 'preemption',\n",
    " 'preemptionnarrow',\n",
    " 'preemptionbroad',\n",
    " 'mcdv',\n",
    " 'mcdvdating',\n",
    " 'mcdvsurrender',\n",
    " 'mcdvsurrendernoconditions',\n",
    " 'mcdvsurrenderdating',\n",
    " 'mcdvremovalallowed',\n",
    " 'mcdvremovalrequired',\n",
    " 'incidentremoval',\n",
    " 'incidentall',\n",
    " 'dvro',\n",
    " 'dvrodating',\n",
    " 'exparte',\n",
    " 'expartedating',\n",
    " 'dvrosurrender',\n",
    " 'dvrosurrendernoconditions',\n",
    " 'dvrosurrenderdating',\n",
    " 'expartesurrender',\n",
    " 'expartesurrendernoconditions',\n",
    " 'expartesurrenderdating',\n",
    " 'dvroremoval',\n",
    " 'stalking',\n",
    " 'lawtotal'"
   ]
  },
  {
   "cell_type": "markdown",
   "metadata": {},
   "source": [
    "#### 4 Introduction of dataset\n",
    "\n",
    "\n",
    "## Dataset1(Gun Violence dataset)\n",
    "\n",
    "|Column Name | Description|\n",
    "--- | ---\n",
    "|**incident_id** | Unique Key for every incident|\n",
    "--- | ---\n",
    "|**date** | Date of crime|\n",
    "--- | ---\n",
    "|**state** | State of crime|\n",
    "--- | ---\n",
    "|**city_or_county** | City/ County of crime|\n",
    "--- | ---\n",
    "**address** | Address of the location of the crime\n",
    "--- | ---\n",
    "**n_killed** |Number of people killed\n",
    "--- | ---\n",
    "**n_injured** | Number of people injured\n",
    "--- | ---\n",
    "**incident_url** | URL regarding the incident\n",
    "--- | ---\n",
    "**source_url** | Reference to the reporting source\n",
    "--- | ---\n",
    "**incident_url_fields_missing** | Boolean of wheather the URL field is missing\n",
    "--- | ---\n",
    "**congressional_district** | Congressional district crime took place in\n",
    "--- | ---\n",
    "**gun_stolen** | Identifies whather the gun involved was proven to be stolen by participants\n",
    "--- | ---\n",
    "**gun_type** | Type of gun crime was commited with\n",
    "--- | ---\n",
    "**incident_characteristics** | characteristics of incident\n",
    "--- | ---\n",
    "**latitude** | latitude where incident took palce\n",
    "--- | ---\n",
    "**location_description** | description of location incident took place\n",
    "--- | ---\n",
    "**longitude** |longitude of incident\n",
    "--- | ---\n",
    "**n_guns_involved** |number of guns involved in incidents\n",
    "--- | ---\n",
    "**notes** | general notes of what occured in incident\n",
    "--- | ---\n",
    "**participant_age** | particpant age\n",
    "--- | ---\n",
    "**participant_age_group** | age group of participant(18+,50+ etc...)\n",
    "--- | ---\n",
    "**participant_gender** | gender of participant\n",
    "--- | ---\n",
    "**participant_name** | name of participant\n",
    "--- | ---\n",
    "**participant_relationship** | relationship participant had with victim(Cousin, Brother, friend etc...)\n",
    "--- | ---\n",
    "**participant_statu** | status of participant(alive, dead, arrested etc ... )\n",
    "--- | ---\n",
    "**participant_type** | participant's role in incident (victim, perpetrator etc...)\n",
    "--- | ---\n",
    "**sources** | URL leading to a reporting source\n",
    "--- | ---\n",
    "**state_house_district** | state house district of the shooting incident\n",
    "\n",
    "\n",
    "## Dataset2(Firearms Dataset)\n",
    "|Column Name | Description|\n",
    "--- | ---\n",
    "**state**| state gun law was enacted in\n",
    "--- | ---\n",
    "**year**| year gunlaw was active or inactive\n",
    "--- | ---\n",
    "**lawtotal**| total number of gun laws enacted in the state\n",
    "--- | ---\n",
    "**age21longgunsale**|Wheather purchase of long guns from licensed dealers restricted to age 21 and older in state\n",
    "--- | ---\n",
    "**age21handgunpossess**| Wheather the possession of handguns is restricted until age 21 in state\n",
    "--- | ---\n",
    "**age18longgunpossess**|Wheather the possession of long guns is restricted until age 18 in state\n",
    "--- | ---\n",
    "**age21longgunpossess**|Wheather the possession of long guns is restricted until age 21 in state\n",
    "--- | ---\n",
    "**age21handgunsale**|Wheather purchase of handguns from licensed dealers and private sellers restricted to age 21 and older in state\n",
    "--- | ---\n",
    "**age18longgunsale**|Wheather purchase of long guns from licensed dealers and private sellers restricted to age 18 and older in state\n",
    "--- | ---\n",
    "**age21longgunsaled**|Wheather purchase of long guns from licensed dealers and private sellers restricted to age 21 and older in state\n",
    "--- | ---\n",
    "**training**|Wheather safety training or testing required prior to issuing a firearm license or permitin state\n",
    "--- | ---\n",
    "**permit**| Wheather a license or permit is required to purchase all firearms in state\n",
    "--- | ---\n",
    "**permith**|Wheather a license or permit is required to purchase handguns in state\n",
    "--- | ---\n",
    "**felony**|Firearm possession is prohibited for people with a felony conviction in state\n",
    "--- | ---\n",
    "**mentalhealth**| Wheather there are Required background checks include an explicit requirement for search of state mental health records in state\n",
    "--- | ---\n",
    "\n"
   ]
  },
  {
   "cell_type": "markdown",
   "metadata": {},
   "source": [
    "**Hypothesis and conclusion**\n",
    " Our hypothesis is that the states with more gun laws will ultimatley have lower rates of gun violence , that young males are most often the perpetrators of gun violence, that the states with stricter gun regulations will help less gun violence, that a majority of incidents involve stolen weapons, that long guns are most responsible for mass shootings and that pushing the sale of long guns from 18 years old to 21 years old reduces the amount of gun violence."
   ]
  },
  {
   "cell_type": "markdown",
   "metadata": {},
   "source": [
    "**Team Members : **\n",
    "1. Name : Aboli Rawanhate\n",
    "    UBIT : aboliraw\n",
    "    UB person number : 50374341\n",
    "    \n",
    "    \n",
    "2. Name : Anthony Feliciano\n",
    "   UBIT : arfelici\n",
    "   UB person number : 50283461\n",
    "   \n",
    "   \n",
    "This work is created by above specified members only."
   ]
  },
  {
   "cell_type": "markdown",
   "metadata": {},
   "source": [
    "**Data Sources : **\n",
    "1. Kaggle\n",
    "2. Data.world\n",
    "\n",
    "**Data Sets : **\n",
    "1. Gun Violence Dataset - https://www.kaggle.com/jameslko/gun-violence-data?select=gun-violence-data_01-2013_03-2018.csv\n",
    "2. Firearms Dataset - https://data.world/mbsiegel/state-firearm-law-database-and-codebook/workspace/file?filename=firearms.database.xlsx"
   ]
  },
  {
   "cell_type": "markdown",
   "metadata": {},
   "source": [
    "**Tasks Bifurcation : **\n",
    "1. Dataset research for Gun Violence, processing and cleaning - Aboli Rawanhate\n",
    "2. Dataset research for Firearm Laws, processing and cleaning - Anthony Feliciano\n",
    "\n",
    "We have merged both the datasets to draw insights from to find solution on Gun Violence."
   ]
  },
  {
   "cell_type": "markdown",
   "metadata": {},
   "source": [
    "### Task Index\n",
    "\n",
    "1. Load Data and initial exploration\n",
    "2. Clean Participants Details starting with projecting a new dataframe with incident id and all participant\n",
    "4. Cleanup projected new dataframe\n",
    "5. Cleanup participant status column\n",
    "6. Add back projected dataframe into original dataframe\n",
    "7. Clean Gun Details\n",
    "8. Handle missing values\n",
    "9. Drop unwanted columns from original dataframe\n",
    "10. Find gun type with missing values and delete them\n",
    "12. Handle gun_type column\n",
    "13. Infer participant_age_group from participant_age if missing\n",
    "14. Handle participant_age column\n",
    "15. Handle participant_gender column\n",
    "16. Cleanup source_url column\n",
    "17. Add Firearms Laws Dataset\n",
    "18. Fill Unknown or NA gun type values with most frequently observed gun type in that county"
   ]
  },
  {
   "cell_type": "markdown",
   "metadata": {},
   "source": [
    "# Gun Violence Dataset IDA"
   ]
  },
  {
   "cell_type": "markdown",
   "metadata": {},
   "source": [
    "**1. Load Data and initial exploration**\n",
    "\n",
    "***Description :*** This process is used to load the gun violence dataset and identify the columns to analyse the data.  \n",
    "\n",
    "***Reason :*** Data is available in csv format, to analyse and work on it, we have to come up with operative format. Also, we need to observe structure of data to come up with answers.\n",
    "\n",
    "***Process :*** Read csv file and convert it to dataframe. Check the structure of dataset by df.columns."
   ]
  },
  {
   "cell_type": "code",
   "execution_count": 1,
   "metadata": {},
   "outputs": [
    {
     "output_type": "execute_result",
     "data": {
      "text/plain": [
       "        incident_id        date           state city_or_county  \\\n",
       "0            461105  2013-01-01    Pennsylvania     Mckeesport   \n",
       "1            460726  2013-01-01      California      Hawthorne   \n",
       "2            478855  2013-01-01            Ohio         Lorain   \n",
       "3            478925  2013-01-05        Colorado         Aurora   \n",
       "4            478959  2013-01-07  North Carolina     Greensboro   \n",
       "...             ...         ...             ...            ...   \n",
       "239672      1083142  2018-03-31       Louisiana          Rayne   \n",
       "239673      1083139  2018-03-31       Louisiana   Natchitoches   \n",
       "239674      1083151  2018-03-31       Louisiana         Gretna   \n",
       "239675      1082514  2018-03-31           Texas        Houston   \n",
       "239676      1081940  2018-03-31           Maine   Norridgewock   \n",
       "\n",
       "                                          address  n_killed  n_injured  \\\n",
       "0       1506 Versailles Avenue and Coursin Street         0          4   \n",
       "1                    13500 block of Cerise Avenue         1          3   \n",
       "2                           1776 East 28th Street         1          3   \n",
       "3                16000 block of East Ithaca Place         4          0   \n",
       "4                       307 Mourning Dove Terrace         2          2   \n",
       "...                                           ...       ...        ...   \n",
       "239672         North Riceland Road and Highway 90         0          0   \n",
       "239673                             247 Keyser Ave         1          0   \n",
       "239674                  1300 block of Cook Street         0          1   \n",
       "239675                     12630 Ashford Point Dr         1          0   \n",
       "239676                           434 Skowhegan Rd         2          0   \n",
       "\n",
       "                                             incident_url  \\\n",
       "0       http://www.gunviolencearchive.org/incident/461105   \n",
       "1       http://www.gunviolencearchive.org/incident/460726   \n",
       "2       http://www.gunviolencearchive.org/incident/478855   \n",
       "3       http://www.gunviolencearchive.org/incident/478925   \n",
       "4       http://www.gunviolencearchive.org/incident/478959   \n",
       "...                                                   ...   \n",
       "239672  http://www.gunviolencearchive.org/incident/108...   \n",
       "239673  http://www.gunviolencearchive.org/incident/108...   \n",
       "239674  http://www.gunviolencearchive.org/incident/108...   \n",
       "239675  http://www.gunviolencearchive.org/incident/108...   \n",
       "239676  http://www.gunviolencearchive.org/incident/108...   \n",
       "\n",
       "                                               source_url  \\\n",
       "0       http://www.post-gazette.com/local/south/2013/0...   \n",
       "1       http://www.dailybulletin.com/article/zz/201301...   \n",
       "2       http://chronicle.northcoastnow.com/2013/02/14/...   \n",
       "3       http://www.dailydemocrat.com/20130106/aurora-s...   \n",
       "4       http://www.journalnow.com/news/local/article_d...   \n",
       "...                                                   ...   \n",
       "239672  http://www.klfy.com/news/local/rayne-woman-cha...   \n",
       "239673  http://www.ksla.com/story/37854648/man-wanted-...   \n",
       "239674  http://www.nola.com/crime/index.ssf/2018/04/sh...   \n",
       "239675  https://www.chron.com/news/houston-texas/houst...   \n",
       "239676  https://www.centralmaine.com/2018/03/31/police...   \n",
       "\n",
       "        incident_url_fields_missing  ...                    participant_age  \\\n",
       "0                             False  ...                              0::20   \n",
       "1                             False  ...                              0::20   \n",
       "2                             False  ...  0::25||1::31||2::33||3::34||4::33   \n",
       "3                             False  ...         0::29||1::33||2::56||3::33   \n",
       "4                             False  ...         0::18||1::46||2::14||3::47   \n",
       "...                             ...  ...                                ...   \n",
       "239672                        False  ...                              0::25   \n",
       "239673                        False  ...                              1::21   \n",
       "239674                        False  ...                              0::21   \n",
       "239675                        False  ...                              0::42   \n",
       "239676                        False  ...                       0::58||1::62   \n",
       "\n",
       "                                    participant_age_group  \\\n",
       "0       0::Adult 18+||1::Adult 18+||2::Adult 18+||3::A...   \n",
       "1       0::Adult 18+||1::Adult 18+||2::Adult 18+||3::A...   \n",
       "2       0::Adult 18+||1::Adult 18+||2::Adult 18+||3::A...   \n",
       "3       0::Adult 18+||1::Adult 18+||2::Adult 18+||3::A...   \n",
       "4       0::Adult 18+||1::Adult 18+||2::Teen 12-17||3::...   \n",
       "...                                                   ...   \n",
       "239672                                       0::Adult 18+   \n",
       "239673                         0::Adult 18+||1::Adult 18+   \n",
       "239674                                       0::Adult 18+   \n",
       "239675                                       0::Adult 18+   \n",
       "239676                         0::Adult 18+||1::Adult 18+   \n",
       "\n",
       "                                 participant_gender  \\\n",
       "0              0::Male||1::Male||3::Male||4::Female   \n",
       "1                                           0::Male   \n",
       "2       0::Male||1::Male||2::Male||3::Male||4::Male   \n",
       "3              0::Female||1::Male||2::Male||3::Male   \n",
       "4            0::Female||1::Male||2::Male||3::Female   \n",
       "...                                             ...   \n",
       "239672                                    0::Female   \n",
       "239673                             0::Male||1::Male   \n",
       "239674                                      0::Male   \n",
       "239675                                      0::Male   \n",
       "239676                           0::Female||1::Male   \n",
       "\n",
       "                                         participant_name  \\\n",
       "0                                          0::Julian Sims   \n",
       "1                                       0::Bernard Gillis   \n",
       "2       0::Damien Bell||1::Desmen Noble||2::Herman Sea...   \n",
       "3       0::Stacie Philbrook||1::Christopher Ratliffe||...   \n",
       "4       0::Danielle Imani Jameison||1::Maurice Eugene ...   \n",
       "...                                                   ...   \n",
       "239672                                   0::Jhkeya Tezeno   \n",
       "239673     0::Jamal Haskett||1::Jaquarious Tyjuan Ardison   \n",
       "239674                                                NaN   \n",
       "239675                                     0::Leroy Ellis   \n",
       "239676           0::Marie Lancaster Hale||1::William Hale   \n",
       "\n",
       "                         participant_relationship  \\\n",
       "0                                             NaN   \n",
       "1                                             NaN   \n",
       "2                                             NaN   \n",
       "3                                             NaN   \n",
       "4                                       3::Family   \n",
       "...                                           ...   \n",
       "239672                                        NaN   \n",
       "239673                                        NaN   \n",
       "239674                                        NaN   \n",
       "239675                                        NaN   \n",
       "239676  1::Significant others - current or former   \n",
       "\n",
       "                                       participant_status  \\\n",
       "0       0::Arrested||1::Injured||2::Injured||3::Injure...   \n",
       "1           0::Killed||1::Injured||2::Injured||3::Injured   \n",
       "2       0::Injured, Unharmed, Arrested||1::Unharmed, A...   \n",
       "3              0::Killed||1::Killed||2::Killed||3::Killed   \n",
       "4            0::Injured||1::Injured||2::Killed||3::Killed   \n",
       "...                                                   ...   \n",
       "239672                              0::Unharmed, Arrested   \n",
       "239673                   0::Killed||1::Unharmed, Arrested   \n",
       "239674                                         0::Injured   \n",
       "239675                                          0::Killed   \n",
       "239676                               0::Killed||1::Killed   \n",
       "\n",
       "                                         participant_type  \\\n",
       "0       0::Victim||1::Victim||2::Victim||3::Victim||4:...   \n",
       "1       0::Victim||1::Victim||2::Victim||3::Victim||4:...   \n",
       "2       0::Subject-Suspect||1::Subject-Suspect||2::Vic...   \n",
       "3       0::Victim||1::Victim||2::Victim||3::Subject-Su...   \n",
       "4       0::Victim||1::Victim||2::Victim||3::Subject-Su...   \n",
       "...                                                   ...   \n",
       "239672                                 0::Subject-Suspect   \n",
       "239673                      0::Victim||1::Subject-Suspect   \n",
       "239674                                          0::Victim   \n",
       "239675                                          0::Victim   \n",
       "239676                      0::Victim||1::Subject-Suspect   \n",
       "\n",
       "                                                  sources  \\\n",
       "0       http://pittsburgh.cbslocal.com/2013/01/01/4-pe...   \n",
       "1       http://losangeles.cbslocal.com/2013/01/01/man-...   \n",
       "2       http://www.morningjournal.com/general-news/201...   \n",
       "3       http://denver.cbslocal.com/2013/01/06/officer-...   \n",
       "4       http://myfox8.com/2013/01/08/update-mother-sho...   \n",
       "...                                                   ...   \n",
       "239672  http://www.klfy.com/news/local/rayne-woman-cha...   \n",
       "239673  http://www.ksla.com/story/37854648/man-wanted-...   \n",
       "239674  http://www.nola.com/crime/index.ssf/2018/04/sh...   \n",
       "239675  http://www.khou.com/article/news/hpd-investiga...   \n",
       "239676  https://www.centralmaine.com/2018/03/31/police...   \n",
       "\n",
       "       state_house_district state_senate_district  \n",
       "0                       NaN                   NaN  \n",
       "1                      62.0                  35.0  \n",
       "2                      56.0                  13.0  \n",
       "3                      40.0                  28.0  \n",
       "4                      62.0                  27.0  \n",
       "...                     ...                   ...  \n",
       "239672                  NaN                   NaN  \n",
       "239673                 23.0                  31.0  \n",
       "239674                 85.0                   7.0  \n",
       "239675                149.0                  17.0  \n",
       "239676                111.0                   3.0  \n",
       "\n",
       "[239677 rows x 29 columns]"
      ],
      "text/html": "<div>\n<style scoped>\n    .dataframe tbody tr th:only-of-type {\n        vertical-align: middle;\n    }\n\n    .dataframe tbody tr th {\n        vertical-align: top;\n    }\n\n    .dataframe thead th {\n        text-align: right;\n    }\n</style>\n<table border=\"1\" class=\"dataframe\">\n  <thead>\n    <tr style=\"text-align: right;\">\n      <th></th>\n      <th>incident_id</th>\n      <th>date</th>\n      <th>state</th>\n      <th>city_or_county</th>\n      <th>address</th>\n      <th>n_killed</th>\n      <th>n_injured</th>\n      <th>incident_url</th>\n      <th>source_url</th>\n      <th>incident_url_fields_missing</th>\n      <th>...</th>\n      <th>participant_age</th>\n      <th>participant_age_group</th>\n      <th>participant_gender</th>\n      <th>participant_name</th>\n      <th>participant_relationship</th>\n      <th>participant_status</th>\n      <th>participant_type</th>\n      <th>sources</th>\n      <th>state_house_district</th>\n      <th>state_senate_district</th>\n    </tr>\n  </thead>\n  <tbody>\n    <tr>\n      <th>0</th>\n      <td>461105</td>\n      <td>2013-01-01</td>\n      <td>Pennsylvania</td>\n      <td>Mckeesport</td>\n      <td>1506 Versailles Avenue and Coursin Street</td>\n      <td>0</td>\n      <td>4</td>\n      <td>http://www.gunviolencearchive.org/incident/461105</td>\n      <td>http://www.post-gazette.com/local/south/2013/0...</td>\n      <td>False</td>\n      <td>...</td>\n      <td>0::20</td>\n      <td>0::Adult 18+||1::Adult 18+||2::Adult 18+||3::A...</td>\n      <td>0::Male||1::Male||3::Male||4::Female</td>\n      <td>0::Julian Sims</td>\n      <td>NaN</td>\n      <td>0::Arrested||1::Injured||2::Injured||3::Injure...</td>\n      <td>0::Victim||1::Victim||2::Victim||3::Victim||4:...</td>\n      <td>http://pittsburgh.cbslocal.com/2013/01/01/4-pe...</td>\n      <td>NaN</td>\n      <td>NaN</td>\n    </tr>\n    <tr>\n      <th>1</th>\n      <td>460726</td>\n      <td>2013-01-01</td>\n      <td>California</td>\n      <td>Hawthorne</td>\n      <td>13500 block of Cerise Avenue</td>\n      <td>1</td>\n      <td>3</td>\n      <td>http://www.gunviolencearchive.org/incident/460726</td>\n      <td>http://www.dailybulletin.com/article/zz/201301...</td>\n      <td>False</td>\n      <td>...</td>\n      <td>0::20</td>\n      <td>0::Adult 18+||1::Adult 18+||2::Adult 18+||3::A...</td>\n      <td>0::Male</td>\n      <td>0::Bernard Gillis</td>\n      <td>NaN</td>\n      <td>0::Killed||1::Injured||2::Injured||3::Injured</td>\n      <td>0::Victim||1::Victim||2::Victim||3::Victim||4:...</td>\n      <td>http://losangeles.cbslocal.com/2013/01/01/man-...</td>\n      <td>62.0</td>\n      <td>35.0</td>\n    </tr>\n    <tr>\n      <th>2</th>\n      <td>478855</td>\n      <td>2013-01-01</td>\n      <td>Ohio</td>\n      <td>Lorain</td>\n      <td>1776 East 28th Street</td>\n      <td>1</td>\n      <td>3</td>\n      <td>http://www.gunviolencearchive.org/incident/478855</td>\n      <td>http://chronicle.northcoastnow.com/2013/02/14/...</td>\n      <td>False</td>\n      <td>...</td>\n      <td>0::25||1::31||2::33||3::34||4::33</td>\n      <td>0::Adult 18+||1::Adult 18+||2::Adult 18+||3::A...</td>\n      <td>0::Male||1::Male||2::Male||3::Male||4::Male</td>\n      <td>0::Damien Bell||1::Desmen Noble||2::Herman Sea...</td>\n      <td>NaN</td>\n      <td>0::Injured, Unharmed, Arrested||1::Unharmed, A...</td>\n      <td>0::Subject-Suspect||1::Subject-Suspect||2::Vic...</td>\n      <td>http://www.morningjournal.com/general-news/201...</td>\n      <td>56.0</td>\n      <td>13.0</td>\n    </tr>\n    <tr>\n      <th>3</th>\n      <td>478925</td>\n      <td>2013-01-05</td>\n      <td>Colorado</td>\n      <td>Aurora</td>\n      <td>16000 block of East Ithaca Place</td>\n      <td>4</td>\n      <td>0</td>\n      <td>http://www.gunviolencearchive.org/incident/478925</td>\n      <td>http://www.dailydemocrat.com/20130106/aurora-s...</td>\n      <td>False</td>\n      <td>...</td>\n      <td>0::29||1::33||2::56||3::33</td>\n      <td>0::Adult 18+||1::Adult 18+||2::Adult 18+||3::A...</td>\n      <td>0::Female||1::Male||2::Male||3::Male</td>\n      <td>0::Stacie Philbrook||1::Christopher Ratliffe||...</td>\n      <td>NaN</td>\n      <td>0::Killed||1::Killed||2::Killed||3::Killed</td>\n      <td>0::Victim||1::Victim||2::Victim||3::Subject-Su...</td>\n      <td>http://denver.cbslocal.com/2013/01/06/officer-...</td>\n      <td>40.0</td>\n      <td>28.0</td>\n    </tr>\n    <tr>\n      <th>4</th>\n      <td>478959</td>\n      <td>2013-01-07</td>\n      <td>North Carolina</td>\n      <td>Greensboro</td>\n      <td>307 Mourning Dove Terrace</td>\n      <td>2</td>\n      <td>2</td>\n      <td>http://www.gunviolencearchive.org/incident/478959</td>\n      <td>http://www.journalnow.com/news/local/article_d...</td>\n      <td>False</td>\n      <td>...</td>\n      <td>0::18||1::46||2::14||3::47</td>\n      <td>0::Adult 18+||1::Adult 18+||2::Teen 12-17||3::...</td>\n      <td>0::Female||1::Male||2::Male||3::Female</td>\n      <td>0::Danielle Imani Jameison||1::Maurice Eugene ...</td>\n      <td>3::Family</td>\n      <td>0::Injured||1::Injured||2::Killed||3::Killed</td>\n      <td>0::Victim||1::Victim||2::Victim||3::Subject-Su...</td>\n      <td>http://myfox8.com/2013/01/08/update-mother-sho...</td>\n      <td>62.0</td>\n      <td>27.0</td>\n    </tr>\n    <tr>\n      <th>...</th>\n      <td>...</td>\n      <td>...</td>\n      <td>...</td>\n      <td>...</td>\n      <td>...</td>\n      <td>...</td>\n      <td>...</td>\n      <td>...</td>\n      <td>...</td>\n      <td>...</td>\n      <td>...</td>\n      <td>...</td>\n      <td>...</td>\n      <td>...</td>\n      <td>...</td>\n      <td>...</td>\n      <td>...</td>\n      <td>...</td>\n      <td>...</td>\n      <td>...</td>\n      <td>...</td>\n    </tr>\n    <tr>\n      <th>239672</th>\n      <td>1083142</td>\n      <td>2018-03-31</td>\n      <td>Louisiana</td>\n      <td>Rayne</td>\n      <td>North Riceland Road and Highway 90</td>\n      <td>0</td>\n      <td>0</td>\n      <td>http://www.gunviolencearchive.org/incident/108...</td>\n      <td>http://www.klfy.com/news/local/rayne-woman-cha...</td>\n      <td>False</td>\n      <td>...</td>\n      <td>0::25</td>\n      <td>0::Adult 18+</td>\n      <td>0::Female</td>\n      <td>0::Jhkeya Tezeno</td>\n      <td>NaN</td>\n      <td>0::Unharmed, Arrested</td>\n      <td>0::Subject-Suspect</td>\n      <td>http://www.klfy.com/news/local/rayne-woman-cha...</td>\n      <td>NaN</td>\n      <td>NaN</td>\n    </tr>\n    <tr>\n      <th>239673</th>\n      <td>1083139</td>\n      <td>2018-03-31</td>\n      <td>Louisiana</td>\n      <td>Natchitoches</td>\n      <td>247 Keyser Ave</td>\n      <td>1</td>\n      <td>0</td>\n      <td>http://www.gunviolencearchive.org/incident/108...</td>\n      <td>http://www.ksla.com/story/37854648/man-wanted-...</td>\n      <td>False</td>\n      <td>...</td>\n      <td>1::21</td>\n      <td>0::Adult 18+||1::Adult 18+</td>\n      <td>0::Male||1::Male</td>\n      <td>0::Jamal Haskett||1::Jaquarious Tyjuan Ardison</td>\n      <td>NaN</td>\n      <td>0::Killed||1::Unharmed, Arrested</td>\n      <td>0::Victim||1::Subject-Suspect</td>\n      <td>http://www.ksla.com/story/37854648/man-wanted-...</td>\n      <td>23.0</td>\n      <td>31.0</td>\n    </tr>\n    <tr>\n      <th>239674</th>\n      <td>1083151</td>\n      <td>2018-03-31</td>\n      <td>Louisiana</td>\n      <td>Gretna</td>\n      <td>1300 block of Cook Street</td>\n      <td>0</td>\n      <td>1</td>\n      <td>http://www.gunviolencearchive.org/incident/108...</td>\n      <td>http://www.nola.com/crime/index.ssf/2018/04/sh...</td>\n      <td>False</td>\n      <td>...</td>\n      <td>0::21</td>\n      <td>0::Adult 18+</td>\n      <td>0::Male</td>\n      <td>NaN</td>\n      <td>NaN</td>\n      <td>0::Injured</td>\n      <td>0::Victim</td>\n      <td>http://www.nola.com/crime/index.ssf/2018/04/sh...</td>\n      <td>85.0</td>\n      <td>7.0</td>\n    </tr>\n    <tr>\n      <th>239675</th>\n      <td>1082514</td>\n      <td>2018-03-31</td>\n      <td>Texas</td>\n      <td>Houston</td>\n      <td>12630 Ashford Point Dr</td>\n      <td>1</td>\n      <td>0</td>\n      <td>http://www.gunviolencearchive.org/incident/108...</td>\n      <td>https://www.chron.com/news/houston-texas/houst...</td>\n      <td>False</td>\n      <td>...</td>\n      <td>0::42</td>\n      <td>0::Adult 18+</td>\n      <td>0::Male</td>\n      <td>0::Leroy Ellis</td>\n      <td>NaN</td>\n      <td>0::Killed</td>\n      <td>0::Victim</td>\n      <td>http://www.khou.com/article/news/hpd-investiga...</td>\n      <td>149.0</td>\n      <td>17.0</td>\n    </tr>\n    <tr>\n      <th>239676</th>\n      <td>1081940</td>\n      <td>2018-03-31</td>\n      <td>Maine</td>\n      <td>Norridgewock</td>\n      <td>434 Skowhegan Rd</td>\n      <td>2</td>\n      <td>0</td>\n      <td>http://www.gunviolencearchive.org/incident/108...</td>\n      <td>https://www.centralmaine.com/2018/03/31/police...</td>\n      <td>False</td>\n      <td>...</td>\n      <td>0::58||1::62</td>\n      <td>0::Adult 18+||1::Adult 18+</td>\n      <td>0::Female||1::Male</td>\n      <td>0::Marie Lancaster Hale||1::William Hale</td>\n      <td>1::Significant others - current or former</td>\n      <td>0::Killed||1::Killed</td>\n      <td>0::Victim||1::Subject-Suspect</td>\n      <td>https://www.centralmaine.com/2018/03/31/police...</td>\n      <td>111.0</td>\n      <td>3.0</td>\n    </tr>\n  </tbody>\n</table>\n<p>239677 rows × 29 columns</p>\n</div>"
     },
     "metadata": {},
     "execution_count": 1
    }
   ],
   "source": [
    "import numpy as np\n",
    "import pandas as pd\n",
    "import gc\n",
    "\n",
    "# Read CSV file into DataFrame df\n",
    "file_path = \".\\p1_data\\gun-violence-data_01-2013_03-2018.csv\"\n",
    "df = pd.read_csv(file_path)\n",
    "\n",
    "# For testing purpose, operating on few rows only\n",
    "#df = df.head()\n",
    "df"
   ]
  },
  {
   "cell_type": "code",
   "execution_count": 2,
   "metadata": {},
   "outputs": [],
   "source": [
    "# Make pandas show all columns\n",
    "pd.set_option('display.max_columns', None)"
   ]
  },
  {
   "cell_type": "code",
   "execution_count": 3,
   "metadata": {},
   "outputs": [
    {
     "output_type": "execute_result",
     "data": {
      "text/plain": [
       "Index(['incident_id', 'date', 'state', 'city_or_county', 'address', 'n_killed',\n",
       "       'n_injured', 'incident_url', 'source_url',\n",
       "       'incident_url_fields_missing', 'congressional_district', 'gun_stolen',\n",
       "       'gun_type', 'incident_characteristics', 'latitude',\n",
       "       'location_description', 'longitude', 'n_guns_involved', 'notes',\n",
       "       'participant_age', 'participant_age_group', 'participant_gender',\n",
       "       'participant_name', 'participant_relationship', 'participant_status',\n",
       "       'participant_type', 'sources', 'state_house_district',\n",
       "       'state_senate_district'],\n",
       "      dtype='object')"
      ]
     },
     "metadata": {},
     "execution_count": 3
    }
   ],
   "source": [
    "# Show columns of dataframe\n",
    "df.columns"
   ]
  },
  {
   "cell_type": "markdown",
   "metadata": {},
   "source": [
    "**2. Clean Participants Details starting with projecting a new dataframe with incident id and all participant**\n",
    "\n",
    "**Description :**** There are six columns with participant details. Participants of the incident can be victim or suspects. This data is unnormalised so needs normalisation.\n",
    "\n",
    "**Reason :**** Every participant group is related but not structured in a way that it seems related. Also data is un-normalised, so to focus on cleaning of only participant details, we are creating another dataframe for participants.\n",
    "\n",
    "**Process :**** Create new dataframe from original dataframe using existing participant columns. Also we are replacing NaN with empty string to avoid any string operation failure.\n"
   ]
  },
  {
   "cell_type": "code",
   "execution_count": 4,
   "metadata": {},
   "outputs": [],
   "source": [
    "# col_list with participant detailed columns will be used many times in the scripts for removal of the redundant columns from original dataframe\n",
    "col_list = [\n",
    "    \"participant_age\",\n",
    "    \"participant_age_group\",\n",
    "    \"participant_gender\",\n",
    "    \"participant_status\",\n",
    "    \"participant_type\",\n",
    "]\n",
    "\n",
    "# creating new list where incident id is mentioned as will need incident id to know participant details belongs to which incident.\n",
    "new_col_list = [\"incident_id\"] + col_list\n",
    "\n",
    "# Fill all NaN values with empty string so that string operations won't fail at this point.\n",
    "df.fillna(\"\", inplace=True)\n",
    "\n",
    "# Make new dataframe for participants as there are six participants columns in dataframe and value of every column is '||' separated and string is in format - E.g. for participant's age it is 0::20'\n",
    "newdf = df[new_col_list]"
   ]
  },
  {
   "cell_type": "markdown",
   "metadata": {},
   "source": [
    "**3. Cleanup projected new dataframe**\n",
    "\n",
    "**Description :****  Normalise participant details so that every row of the dataframe will have unique value.\n",
    "\n",
    "**Reason :**** Every value of the participant details has value \"0::Adult 18+||1::Adult 18+||2::Adult 18+\" in this format, in this 0 is the participant id and his/her age group is 'Adult 18+'. Also, values of some participants are present in one columns whereas missing in other. So we are normalising this data\n",
    "\n",
    "\n",
    "**Process :****  For every row, the value of every column is cleaned by making it as dictionary with key as participant_id and value as the respective column value. Then a consolidated list of dictionaries for participant details of the incident is created and then did explode to convert those keys to column names and dict values to column values."
   ]
  },
  {
   "cell_type": "code",
   "execution_count": 5,
   "metadata": {},
   "outputs": [],
   "source": [
    "# This function takes column value for particular row as input. \n",
    "# Cleans string from '0::20||1::25' to '[{'0':20,'1':25}]. This format will be easy to form general format for other participant columns as well.'\n",
    "# Output - It returns list of disctionaries with key as the participant_id and value as the column's value for that participant.\n",
    "\n",
    "def unpack_cols(col_data):\n",
    "    new_dict = {}\n",
    "\n",
    "    # Some cells have string separated by '|' and some are separated by '||'. So we are replacing first to get all strings in one format and then will split.\n",
    "    col_data = col_data.replace('||','|')\n",
    "\n",
    "    col_data = col_data.split('|')\n",
    "    for elem in col_data:\n",
    "        if elem:\n",
    "            # Some cells have string separated by ':' and some are separated by '::'. So we are replacing first to get all strings in one format and then will split.\n",
    "            elem = elem.replace('::',':')\n",
    "            try:\n",
    "                pid,pid_value = elem.split(':')\n",
    "                new_dict.update({pid:pid_value})\n",
    "            except:\n",
    "                print(\"element==\",elem)\n",
    "\n",
    "            #print(\"data===\",col_data,col_name)\n",
    "        #print(\"new dict\",new_dict)\n",
    "    return new_dict"
   ]
  },
  {
   "cell_type": "code",
   "execution_count": 6,
   "metadata": {},
   "outputs": [],
   "source": [
    "# Function takes participants specifc columns from every row of dataframe as input\n",
    "# Cleans every participant column of dataframe and form a general structure of participant details so that every participant id will carry information of that participant.\n",
    "\n",
    "def unpack_every_col(\n",
    "    incident_id,\n",
    "    participant_age,\n",
    "    participant_age_group,\n",
    "    participant_gender,\n",
    "    participant_status,\n",
    "    participant_type,\n",
    "):\n",
    "    # Cleans every participant column's string from '0::20||1::25' to '{'0':20,'1':25} format.\n",
    "    participant_age = unpack_cols(participant_age)\n",
    "    participant_age_group = unpack_cols(participant_age_group)\n",
    "    participant_gender = unpack_cols(participant_gender)\n",
    "    participant_status = unpack_cols(participant_status)\n",
    "    participant_type = unpack_cols(participant_type)\n",
    "\n",
    "    # Create unique list of participant's id so that we will know how many participant are there for every incident.\n",
    "    unique_participants = set(\n",
    "        list(participant_age.keys())\n",
    "        + list(participant_age_group.keys())\n",
    "        + list(participant_gender.keys())\n",
    "        + list(participant_status.keys())\n",
    "        + list(participant_type.keys())\n",
    "    )\n",
    "    unique_participants = list(unique_participants)\n",
    "\n",
    "    # Form a dictionary with keys as participant column name and values for respective participant_id and category.\n",
    "    new_row = []\n",
    "    for participant in unique_participants:\n",
    "        participant = str(participant)\n",
    "        obj = {\n",
    "            \"incident_id\": incident_id,\n",
    "            \"participant_id\": participant,\n",
    "            \"participant_age\": participant_age.get(participant),\n",
    "            \"participant_age_group\": participant_age_group.get(participant),\n",
    "            \"participant_gender\": participant_gender.get(participant),\n",
    "            \"participant_status\": participant_status.get(participant),\n",
    "            \"participant_type\": participant_type.get(participant),\n",
    "        }\n",
    "        new_row.append(obj)\n",
    "\n",
    "    # If incident don't have any participant details\n",
    "    if not new_row:\n",
    "        new_row = [{}]\n",
    "    # print(\"new row===\",new_row)\n",
    "    return new_row"
   ]
  },
  {
   "cell_type": "code",
   "execution_count": 7,
   "metadata": {},
   "outputs": [
    {
     "output_type": "stream",
     "name": "stderr",
     "text": [
      "<ipython-input-7-3024ed9a47d3>:2: SettingWithCopyWarning: \nA value is trying to be set on a copy of a slice from a DataFrame.\nTry using .loc[row_indexer,col_indexer] = value instead\n\nSee the caveats in the documentation: https://pandas.pydata.org/pandas-docs/stable/user_guide/indexing.html#returning-a-view-versus-a-copy\n  newdf['participants'] = np.vectorize(unpack_every_col)(\n"
     ]
    }
   ],
   "source": [
    "# Apply unpack_every_col function to every row of dataframe and give output to new participant column.\n",
    "newdf['participants'] = np.vectorize(unpack_every_col)(\n",
    "    newdf['incident_id'],\n",
    "    newdf['participant_age'],\n",
    "    newdf['participant_age_group'],\n",
    "    newdf['participant_gender'],\n",
    "    newdf['participant_status'],\n",
    "    newdf['participant_type']\n",
    ")"
   ]
  },
  {
   "cell_type": "code",
   "execution_count": 8,
   "metadata": {},
   "outputs": [],
   "source": [
    "# Explode participants column so that the keys which were in list of dictionary now form different column and values will be in the respective cells.\n",
    "newdf = newdf.explode('participants')"
   ]
  },
  {
   "cell_type": "code",
   "execution_count": 9,
   "metadata": {},
   "outputs": [
    {
     "output_type": "execute_result",
     "data": {
      "text/plain": [
       "0"
      ]
     },
     "metadata": {},
     "execution_count": 9
    }
   ],
   "source": [
    "# Drop existing participant details related columns from new dataframe so that we won't get duplicate column names while unpacking the dictionary\n",
    "unpacked_participants_df = pd.json_normalize(newdf[\"participants\"], max_level=0)\n",
    "\n",
    "# To save on memory, delete unwanted dataframe\n",
    "del newdf\n",
    "gc.collect()"
   ]
  },
  {
   "cell_type": "markdown",
   "metadata": {},
   "source": [
    "**4. Cleanup participant status column**\n",
    "\n",
    "**Description :**** Participant column is normalised to get unique value on every row for that incident.\n",
    "\n",
    "**Reason :**** Participant status for every incident is comma separated. To find unique value for every incident, we have to normalise this column.\n",
    "\n",
    "**Process :**** Split participant status by comma then explode it to get unique rows"
   ]
  },
  {
   "cell_type": "code",
   "execution_count": 10,
   "metadata": {},
   "outputs": [],
   "source": [
    "# Values in participant status were separated by ',' so normalised this column by splitting on the ',' and then exploding the column to make unique entry per row\n",
    "\n",
    "unpacked_participants_df[\"participant_status\"].unique()\n",
    "unpacked_participants_df.fillna({\"participant_status\": \"\"}, inplace=True)\n",
    "unpacked_participants_df[\"participant_status\"] = unpacked_participants_df.apply(\n",
    "    lambda x: x[\"participant_status\"].split(\", \"), axis=1\n",
    ")\n",
    "unpacked_participants_df = unpacked_participants_df.explode(\"participant_status\")"
   ]
  },
  {
   "cell_type": "code",
   "execution_count": 11,
   "metadata": {},
   "outputs": [],
   "source": [
    "# Drop existing participant details related columns from original dataframe as we have to merge new dataframe with the same columns, so to avoid duplicacy\n",
    "\n",
    "df.drop(columns=col_list,inplace=True)"
   ]
  },
  {
   "cell_type": "markdown",
   "metadata": {},
   "source": [
    "**5. Add back projected dataframe into original dataframe**\n",
    "\n",
    "**Description :**** After cleaning participant details, we are adding it to original dataset.\n",
    "    \n",
    "**Reason :**** Original dataset should have cleaned participant details.\n",
    "    \n",
    "**Process :**** Remove existing participant details from original dataframe so that merging won't cause duplicacy.Merge participant details dataframe with original dataframe."
   ]
  },
  {
   "cell_type": "code",
   "execution_count": 12,
   "metadata": {},
   "outputs": [],
   "source": [
    "# Merge original dataframe and new dataframe on incident id to get all the cleaned participant details on original dataframe\n",
    "\n",
    "df = df.merge(unpacked_participants_df, how='inner', on='incident_id')\n"
   ]
  },
  {
   "cell_type": "code",
   "execution_count": 13,
   "metadata": {},
   "outputs": [
    {
     "output_type": "execute_result",
     "data": {
      "text/plain": [
       "45"
      ]
     },
     "metadata": {},
     "execution_count": 13
    }
   ],
   "source": [
    "# Delete unpacked_participants_df as we don't need it\n",
    "del unpacked_participants_df\n",
    "gc.collect()"
   ]
  },
  {
   "cell_type": "markdown",
   "metadata": {},
   "source": [
    "**6. Clean Gun Details**\n",
    "**Description :**** Details about the guns involved in the crime cleaned,filtered and normalised.\n",
    "\n",
    "***Reason :*** Columns related to gun e.g. Gun Stolen, Gun Type needs statistical assumptions as it has many NaN values so it is difficult to infer information from these columns.\n",
    "\n",
    "**Process : ****\n",
    "Gun Scenario : Columns with details of gun involved in incident have values '0::Handgun||1::Shotgun' where number of guns involved is two here and respective is the gun type.\n",
    "\n",
    "Logic : Two different columns created as gun type for gun information. Created new dataframe, cleaned it then merged to original dataframe"
   ]
  },
  {
   "cell_type": "code",
   "execution_count": 14,
   "metadata": {},
   "outputs": [],
   "source": [
    "# Unpack_gun_cols take gun specific columns and normalise gun_stolen and gun_type columns and form consolidate information of gun. We need gun type column normalised to know which gun type is more involved in such crimes.\n",
    "# This function returns list of dictionaries with every dictionary contains details of the gun involved in that incident.\n",
    "\n",
    "def unpack_gun_col(incident_id, gun_stolen, gun_type):\n",
    "    gun_stolen = unpack_cols(gun_stolen)\n",
    "    gun_type = unpack_cols(gun_type)\n",
    "    \n",
    "    unique_guns_id = set(list(gun_stolen.keys())+list(gun_type.keys()))\n",
    "    unique_guns_id = list(unique_guns_id)\n",
    "    new_row = []\n",
    "    \n",
    "    for gid in unique_guns_id:\n",
    "        new_row.append({\n",
    "            'incident_id': incident_id,\n",
    "            'gun_type' : gun_type.get(str(gid)),\n",
    "        })  \n",
    "        \n",
    "    if not new_row:\n",
    "        return [{}]\n",
    "    \n",
    "    return new_row"
   ]
  },
  {
   "cell_type": "code",
   "execution_count": 15,
   "metadata": {},
   "outputs": [
    {
     "output_type": "execute_result",
     "data": {
      "text/plain": [
       "0"
      ]
     },
     "metadata": {},
     "execution_count": 15
    }
   ],
   "source": [
    "# Place the gun details involved in the incident into new column 'guns' then unpack that column to make keys of the dictionary as column name so that every incident will have gun details.\n",
    "\n",
    "gdf = pd.DataFrame([])\n",
    "gdf['guns'] = np.vectorize(unpack_gun_col)(\n",
    "    df['incident_id'],\n",
    "    df['gun_stolen'],\n",
    "    df['gun_type'],\n",
    ")\n",
    "\n",
    "gdf = gdf.explode('guns')\n",
    "\n",
    "unpacked_guns_df = pd.json_normalize(gdf[\"guns\"], max_level=0)\n",
    "\n",
    "df.drop(columns=['gun_stolen','gun_type'],inplace = True)\n",
    "\n",
    "df = pd.merge(\n",
    "    df,\n",
    "    unpacked_guns_df,\n",
    "    left_on=[\"incident_id\"],\n",
    "    right_on=[\"incident_id\"],\n",
    "    how='left'\n",
    ")\n",
    "\n",
    "del gdf\n",
    "del unpacked_guns_df\n",
    "gc.collect()"
   ]
  },
  {
   "cell_type": "markdown",
   "metadata": {},
   "source": [
    "**7. Drop unwanted columns from original dataframe**\n",
    "\n",
    "**Description :**** Deleting columns which are not required for the analysis.\n",
    "\n",
    "**Reason :**** Deletion of extra columns is necessary as operating on unwanted columns will consume less memory and will be easier to process.\n",
    "\n",
    "**Process :**** By using drop function of pandas"
   ]
  },
  {
   "cell_type": "code",
   "execution_count": 16,
   "metadata": {},
   "outputs": [],
   "source": [
    "# Drop unwanted columns from the original dataframe\n",
    "\n",
    "drop_col_list = [\n",
    "    \"address\",\n",
    "    \"incident_url\",\n",
    "    \"sources\",\n",
    "    \"incident_url_fields_missing\",\n",
    "    \"congressional_district\",\n",
    "    \"location_description\",\n",
    "    \"notes\",\n",
    "    \"participant_name\",\n",
    "    \"participant_relationship\",\n",
    "    \"incident_characteristics\",\n",
    "    \"state_house_district\",\n",
    "    \"state_senate_district\",\n",
    "]\n",
    "df.drop(drop_col_list, axis=1, inplace=True)"
   ]
  },
  {
   "cell_type": "markdown",
   "metadata": {},
   "source": [
    "**8 . Validate location specific columns**\n",
    "\n",
    "**Description :**** Check if location specific column has any null values\n",
    "\n",
    "**Reason :**** Missing values don't contribute on prediction so it is necessary to fill those cells or to remove them if not having much impact on data.\n",
    "\n",
    "**Process :**** Checking columns for null values using isnull()"
   ]
  },
  {
   "cell_type": "code",
   "execution_count": 17,
   "metadata": {},
   "outputs": [
    {
     "output_type": "stream",
     "name": "stdout",
     "text": [
      "Column state has 0 rows with NaN values\nColumn city_or_county has 0 rows with NaN values\nColumn latitude has 0 rows with NaN values\nColumn longitude has 0 rows with NaN values\n"
     ]
    }
   ],
   "source": [
    "# Assert that we have data in all location specific columns\n",
    "# i.e their should be no NaN in state, city_or_county and latitude/longitude columns\n",
    "\n",
    "location_cols = ['state', 'city_or_county', 'latitude', 'longitude']\n",
    "for lcols in location_cols:\n",
    "    nrows = df[df[lcols].isnull()].shape[0]\n",
    "    print(f\"Column {lcols} has {nrows} rows with NaN values\")\n",
    "    assert nrows == 0"
   ]
  },
  {
   "cell_type": "markdown",
   "metadata": {},
   "source": [
    "**9. Handle missing values******\n",
    "\n",
    "***Description :*** Verify and handle missing values from dataframe.\n",
    "\n",
    "**Reason :**** Missing values don't contribute on prediction so it is necessary to fill those cells or to remove them if not having much impact on data.\n",
    "\n",
    "**Process :**** Checking columns for null values using isnull()"
   ]
  },
  {
   "cell_type": "code",
   "execution_count": 18,
   "metadata": {},
   "outputs": [
    {
     "output_type": "stream",
     "name": "stdout",
     "text": [
      "Column participant_age has 955547 rows with NaN values\n",
      "Column participant_age_group has 365812 rows with NaN values\n",
      "Column participant_gender has 356856 rows with NaN values\n",
      "Column gun_type has 188503 rows with NaN values\n"
     ]
    }
   ],
   "source": [
    "# Columns with missing values\n",
    "for col in df.columns:\n",
    "    nrows = df[df[col].isnull()].shape[0]\n",
    "    if nrows:\n",
    "        print(f\"Column {col} has {nrows} rows with NaN values\")"
   ]
  },
  {
   "cell_type": "markdown",
   "metadata": {},
   "source": [
    "* **10. Find gun type with missing values and delete them**\n",
    "\n",
    "**Description :**** Identify columns with missing values and deleting them\n",
    "\n",
    "**Reason :**** Missing values makes processing difficult.\n",
    "\n",
    "**Process :**** Deleting the rows with missing values\n"
   ]
  },
  {
   "cell_type": "code",
   "execution_count": 19,
   "metadata": {},
   "outputs": [],
   "source": [
    "df.dropna(subset=['gun_type'], inplace=True)"
   ]
  },
  {
   "cell_type": "markdown",
   "metadata": {},
   "source": [
    "**11. Handle participant_age_group missing values**\n",
    "\n",
    "**Description :**** Infer missing values for participant_age_group from participant_age column\n",
    "\n",
    "**Reason :**** Filling age group values based on age, to keep data consistent and accurate.\n",
    "\n",
    "**Process :**** Check where participant age is present and participant age group is missing, so that we can add age group based on age."
   ]
  },
  {
   "cell_type": "code",
   "execution_count": 20,
   "metadata": {},
   "outputs": [
    {
     "output_type": "execute_result",
     "data": {
      "text/plain": [
       "(704, 17)"
      ]
     },
     "metadata": {},
     "execution_count": 20
    }
   ],
   "source": [
    "df[df.participant_age.notnull() & df.participant_age_group.isna()].shape"
   ]
  },
  {
   "cell_type": "code",
   "execution_count": 21,
   "metadata": {},
   "outputs": [
    {
     "output_type": "execute_result",
     "data": {
      "text/plain": [
       "(704, 17)"
      ]
     },
     "metadata": {},
     "execution_count": 21
    }
   ],
   "source": [
    "# Check rows with valid age but missing age_group\n",
    "# The rows will be filled with subsequent operations in participant_age and participant_age_group column\n",
    "df[df['participant_age'].notnull() & df['participant_age_group'].isna()].shape"
   ]
  },
  {
   "cell_type": "code",
   "execution_count": 22,
   "metadata": {},
   "outputs": [
    {
     "output_type": "execute_result",
     "data": {
      "text/plain": [
       "array(['Adult 18+', 'Teen 12-17', 'Child 0-11', None], dtype=object)"
      ]
     },
     "metadata": {},
     "execution_count": 22
    }
   ],
   "source": [
    "# To check which type of participant age groups are there, so that we can fill participant age group using participant age value where age group is missing.\n",
    "df['participant_age_group'].unique()"
   ]
  },
  {
   "cell_type": "code",
   "execution_count": 23,
   "metadata": {},
   "outputs": [],
   "source": [
    "# Update participant age group if its NA to the value respective to the age. Here if age > 18 then add age_group as adult 18+\n",
    "\n",
    "df[\"participant_age_group\"] = np.where(\n",
    "    df[\"participant_age_group\"].isna() & df[\"participant_age\"] > 18,\n",
    "    \"Adult 18+\",\n",
    "    df[\"participant_age_group\"],\n",
    ")"
   ]
  },
  {
   "cell_type": "markdown",
   "metadata": {},
   "source": [
    "**12. Handle participant_age column**\n",
    "\n",
    "**Description :**** Fill Na values in participant age column so that we can compare the age to assign a specific age group in participant age group where the value is missing.\n",
    "\n",
    "\n",
    "**Reason :**** To compare assign age group based on age, missing values of age could hamper the process.\n",
    "\n",
    "**Process :****  Force type participant age column as integer so that we can compare age range and assign particular age group in participant age group column."
   ]
  },
  {
   "cell_type": "code",
   "execution_count": 24,
   "metadata": {},
   "outputs": [
    {
     "output_type": "execute_result",
     "data": {
      "text/plain": [
       "array(['33', '25', '34', '31', '47', '46', '14', '18', '9', '51', '5',\n",
       "       '15', '40', '2', -1, '19', '28', '78', '48', '24', '20', '21',\n",
       "       '29', '22', '23', '39', '68', '27', '69', '50', '42', '17', '66',\n",
       "       '67', '64', '57', '62', '3', '1', '63', '26', '16', '32', '53',\n",
       "       '41', '55', '10', '30', '45', '72', '37', '13', '12', '44', '70',\n",
       "       '43', '49', '52', '79', '59', '0', '35', '80', '38', '36', '61',\n",
       "       '58', '73', '8', '4', '56', '6', '88', '71', '74', '60', '11', '7',\n",
       "       '77', '54', '76', '81', '65', '89', '92', '82', '84', '93', '75',\n",
       "       '87', '83', '86', '85', '97', '94', '91', '90', '95', '99', '96',\n",
       "       '100', '209', '311'], dtype=object)"
      ]
     },
     "metadata": {},
     "execution_count": 24
    }
   ],
   "source": [
    "# Fill NA by '-1' in participant age as -1 won't be a valid age and we are just temporary filling it by -1 to perform fill na values with age group based on age as it will require type of age as integer and we have it as string\n",
    "\n",
    "df['participant_age'].fillna(-1,inplace=True)\n",
    "df['participant_age'].unique()"
   ]
  },
  {
   "cell_type": "code",
   "execution_count": 25,
   "metadata": {},
   "outputs": [],
   "source": [
    "# Force participant age column type as integer from string to compare with age range and assign specific age group.\n",
    "\n",
    "df = df.astype({'participant_age': 'int32'})"
   ]
  },
  {
   "cell_type": "code",
   "execution_count": 26,
   "metadata": {},
   "outputs": [],
   "source": [
    "# Assign age group as Child if age is between 1-11 and age group is null\n",
    "\n",
    "df[\"participant_age_group\"] = np.where(\n",
    "    (df[\"participant_age_group\"].isna())\n",
    "    & (df[\"participant_age\"].notnull())\n",
    "    & (df[\"participant_age\"] > 0)\n",
    "    & (df[\"participant_age\"] <= 11),\n",
    "    \"Child 0-11\",\n",
    "    df[\"participant_age_group\"],\n",
    ")\n",
    "\n",
    "# Assign age group as Teen if age is between 12-17 and age group is null\n",
    "\n",
    "df[\"participant_age_group\"] = np.where(\n",
    "    (df[\"participant_age_group\"].isna())\n",
    "    & (df[\"participant_age\"].notnull())\n",
    "    & (df[\"participant_age\"] > 11)\n",
    "    & (df[\"participant_age\"] <= 17),\n",
    "    \"Teen 12-17\",\n",
    "    df[\"participant_age_group\"],\n",
    ")"
   ]
  },
  {
   "cell_type": "code",
   "execution_count": 27,
   "metadata": {},
   "outputs": [],
   "source": [
    "df.dropna(subset=['participant_age_group'], inplace=True)"
   ]
  },
  {
   "cell_type": "markdown",
   "metadata": {},
   "source": [
    "**Handle participant_age column**\n",
    "\n",
    "Delete the participant_age column. We can use participant_age_group since it has much less missing values compared to participant_age column"
   ]
  },
  {
   "cell_type": "code",
   "execution_count": 28,
   "metadata": {},
   "outputs": [],
   "source": [
    "df.drop(columns=['participant_age'], axis=1,inplace=True)"
   ]
  },
  {
   "cell_type": "markdown",
   "metadata": {},
   "source": [
    "**13. Handle participant_gender column**\n",
    "\n",
    "**Description :** Fill the missing gender values by infering most frequent gender based state, city_or_county and participant_type columns. \n",
    "\n",
    "**Reason :**** Missing values can be filled with the most frequent value based on some criteria to get more accurate information from that column.\n",
    "\n",
    "**Process :**** Group By with state, county, participant type and participant gender, calculated size of the rows for the matching condition then sorted with size and add most frequent gender column to the dataset. After that filled the missing participant gender column with the values from most frequent gender column and deleted the most frequent column as it was redundant."
   ]
  },
  {
   "cell_type": "code",
   "execution_count": 29,
   "metadata": {},
   "outputs": [
    {
     "output_type": "execute_result",
     "data": {
      "text/plain": [
       "4.8648414110296345"
      ]
     },
     "metadata": {},
     "execution_count": 29
    }
   ],
   "source": [
    "# Incidents with missing participant_gender\n",
    "df[df.participant_gender.isna()].incident_id.nunique() / df.incident_id.nunique() * 100"
   ]
  },
  {
   "cell_type": "code",
   "execution_count": 30,
   "metadata": {},
   "outputs": [],
   "source": [
    "cols = [\n",
    "    \"incident_id\",\n",
    "    \"participant_id\",\n",
    "    \"state\",\n",
    "    \"city_or_county\",\n",
    "    \"participant_type\",\n",
    "    \"participant_gender\",\n",
    "]\n",
    "a = df[cols]\n",
    "\n",
    "# Rows with valid participant gender\n",
    "a = a[a.participant_gender.notnull()]\n",
    "\n",
    "key = [\"incident_id\", \"participant_id\"]\n",
    "a = a.groupby(by=key, as_index=False).first().drop(columns=key)\n",
    "\n",
    "# Get number of participants of each gender for each state, city_or_county and participant_type\n",
    "a = a.groupby(\n",
    "    by=[\"state\", \"city_or_county\", \"participant_type\", \"participant_gender\"],\n",
    "    as_index=False,\n",
    ").size()\n",
    "\n",
    "# Get most frequent gender for each state, city_or_county and participant_type\n",
    "a = a.sort_values(\n",
    "    by=[\"state\", \"city_or_county\", \"participant_type\", \"participant_gender\", \"size\"],\n",
    "    ascending=[True, True, True, True, False],\n",
    ")\n",
    "a = a.groupby(\n",
    "    by=[\"state\", \"city_or_county\", \"participant_type\", \"participant_gender\"],\n",
    "    as_index=False,\n",
    ").first()\n",
    "a.drop(columns=[\"size\"], inplace=True)\n",
    "a.rename(\n",
    "    columns={\"participant_gender\": \"most_frequent_gender\"},\n",
    "    inplace=True\n",
    ")"
   ]
  },
  {
   "cell_type": "code",
   "execution_count": 31,
   "metadata": {},
   "outputs": [
    {
     "output_type": "execute_result",
     "data": {
      "text/plain": [
       "15"
      ]
     },
     "metadata": {},
     "execution_count": 31
    }
   ],
   "source": [
    "# Fill missing values for participant_gender by most_frequent_gender column\n",
    "\n",
    "df = pd.merge(df, a, on=['state', 'city_or_county', 'participant_type'], how='left')\n",
    "df['participant_gender'].fillna(df['most_frequent_gender'], inplace=True)\n",
    "\n",
    "# Drop column\n",
    "df.drop(columns=['most_frequent_gender'], inplace=True)\n",
    "\n",
    "del a\n",
    "gc.collect()"
   ]
  },
  {
   "cell_type": "code",
   "execution_count": 32,
   "metadata": {},
   "outputs": [],
   "source": [
    "# Delete remaining rows which don't have participant_gender\n",
    "df.dropna(subset=['participant_gender'], inplace=True)"
   ]
  },
  {
   "cell_type": "markdown",
   "metadata": {},
   "source": [
    "**14. Handle source_url column**\n",
    "\n",
    "**Description :**** Sources are extracted from URL, we will use this data to analyse incident news is from authentic source or not.\n",
    "\n",
    "***Reason :*** We will need source of the news to check its authenticity in EDA.\n",
    "\n",
    "**Process :**** Extracting hostnames from url using urlparse"
   ]
  },
  {
   "cell_type": "code",
   "execution_count": 33,
   "metadata": {},
   "outputs": [],
   "source": [
    "# This function gets url as input and returns hostname from the url. We are doing this to make a note that from which sources the incident is getting conveyed, so at later stage we can check for its authenticity.\n",
    "\n",
    "from urllib.parse import urlparse\n",
    "def get_hostname_from_url(url):\n",
    "    hostname = ''\n",
    "    #print(url)\n",
    "    \n",
    "    # Validate URL\n",
    "    url = url.lstrip('/')\n",
    "    \n",
    "    # Check if it starts with valid protocol\n",
    "    is_valid = url.startswith('http://') or url.startswith('https://')\n",
    "    \n",
    "    # Add protocol if missing\n",
    "    if not is_valid:\n",
    "        url = f\"http://{url}\"\n",
    "    \n",
    "    if url:\n",
    "        resp = urlparse(url)\n",
    "        hostname = resp.hostname or \"\" \n",
    "        hostname = hostname.split('.')\n",
    "\n",
    "        if len(hostname) > 1:\n",
    "            hostname = hostname[1]\n",
    "        else:\n",
    "            hostname = ''\n",
    "\n",
    "        #print(\"hostnames===\",type(hostname),hostname)\n",
    "    return hostname"
   ]
  },
  {
   "cell_type": "code",
   "execution_count": 34,
   "metadata": {},
   "outputs": [],
   "source": [
    "# Pass url from every row of dataframe and get the hostname\n",
    "df['source_url'] = np.vectorize(get_hostname_from_url)(df['source_url'])"
   ]
  },
  {
   "cell_type": "code",
   "execution_count": 35,
   "metadata": {
    "scrolled": true
   },
   "outputs": [],
   "source": [
    "# Rename source_url column to source as now that column does not contains url just the hostname\n",
    "\n",
    "df.rename(columns={'source_url':'source'},inplace=True)"
   ]
  },
  {
   "cell_type": "markdown",
   "metadata": {},
   "source": [
    "# Firearm Laws Dataset IDA"
   ]
  },
  {
   "cell_type": "markdown",
   "metadata": {},
   "source": [
    "**15. Add Firearms Laws Dataset**\n",
    "**Description :**** Filter only important columns from firearms dataset and Merge Gun Laws(firearm) dataset with Gun Violence Dataset\n",
    "\n",
    "**Reason :**** To know how particular laws impact the number of gun violence in that state or county\n",
    "\n",
    "**Process :**** Clean firearm dataset and used only relavant columns and dates for merging and data analysis."
   ]
  },
  {
   "cell_type": "code",
   "execution_count": 36,
   "metadata": {},
   "outputs": [],
   "source": [
    "\n",
    "#function to parse out the year of the gun violence datafram\n",
    "def compare_data_year(data):\n",
    "    #tokenize data and extract year\n",
    "    year =str(data.split('-')[0])\n",
    "    #return as int to match law df\n",
    "    return int(year)\n",
    "\n",
    "def filter_laws(col):\n",
    "    relevant_laws = [\"state\",\"year\",\"lawtotal\", 'age21longgunsale',\n",
    "    'age21handgunpossess','age18longgunpossess','age21longgunpossess', 'age21handgunsale',\n",
    "    'age18longgunsale','age21longgunsaled',\"training\",\"permit\",\"permith\",\"felony\", 'mentalhealth']\n",
    "    if str(col) not in relevant_laws:\n",
    "        return True\n",
    "    else:\n",
    "        return False\n",
    "\n",
    "# turn firearms csv to dataframe\n",
    "laws_df = pd.read_csv(\"./p1_data/firearmsdatabase.csv\")    \n",
    "\n",
    "#get law columns\n",
    "law_columns =list(laws_df.columns) \n",
    "\n",
    "#filter irrelevantlaws\n",
    "irrelevant_laws = list(filter(filter_laws,law_columns))\n",
    "\n",
    "#drop irrelevant laws\n",
    "laws_df.drop(irrelevant_laws,axis = 1,inplace=True)\n",
    "\n",
    "\n",
    "\n",
    "\n",
    "\n",
    "#drop rows from gun violence dataframe who's date doesn't correspond to any item from the law datafram\n",
    "too_old_indexes_laws = laws_df[laws_df[\"year\"] < 2013].index\n",
    "too_new_indexs_gv=df[df['date'].apply(compare_data_year) ==\"2018\"].index\n",
    "\n",
    "#drop rows from law dataframe who's date doesn't correspond to any item from the gun_violence datafram\n",
    "df.drop(too_new_indexs_gv,inplace = True)\n",
    "laws_df.drop(too_old_indexes_laws, inplace=True)\n",
    "\n",
    "\n",
    "#create year column to have a key along with the state to merge the law dataset into the gunviolence dataset\n",
    "df['year'] = df['date'].apply(compare_data_year)\n",
    "\n",
    "\n",
    "#put in new dataframe to show\n",
    "\n",
    "df = pd.merge(df,laws_df, on = (\"year\",\"state\"))\n"
   ]
  },
  {
   "cell_type": "code",
   "execution_count": 37,
   "metadata": {},
   "outputs": [
    {
     "output_type": "execute_result",
     "data": {
      "text/plain": [
       "Index(['incident_id', 'date', 'state', 'city_or_county', 'n_killed',\n",
       "       'n_injured', 'source', 'latitude', 'longitude', 'n_guns_involved',\n",
       "       'participant_id', 'participant_age_group', 'participant_gender',\n",
       "       'participant_status', 'participant_type', 'gun_type', 'year', 'felony',\n",
       "       'permit', 'permith', 'training', 'age21handgunsale', 'age18longgunsale',\n",
       "       'age21longgunsaled', 'age21longgunsale', 'age21handgunpossess',\n",
       "       'age18longgunpossess', 'age21longgunpossess', 'mentalhealth',\n",
       "       'lawtotal'],\n",
       "      dtype='object')"
      ]
     },
     "metadata": {},
     "execution_count": 37
    }
   ],
   "source": [
    "df.columns"
   ]
  },
  {
   "cell_type": "markdown",
   "metadata": {},
   "source": [
    "**Check for outliers in lawtotal**"
   ]
  },
  {
   "cell_type": "code",
   "execution_count": 38,
   "metadata": {},
   "outputs": [
    {
     "output_type": "stream",
     "name": "stdout",
     "text": [
      "Empty DataFrame\nColumns: [incident_id, date, state, city_or_county, n_killed, n_injured, source, latitude, longitude, n_guns_involved, participant_id, participant_age_group, participant_gender, participant_status, participant_type, gun_type, year, felony, permit, permith, training, age21handgunsale, age18longgunsale, age21longgunsaled, age21longgunsale, age21handgunpossess, age18longgunpossess, age21longgunpossess, mentalhealth, lawtotal]\nIndex: []\n"
     ]
    }
   ],
   "source": [
    "outliers = df[df['lawtotal'] > df['lawtotal'].mean() + 3 * df['lawtotal'].std()]\n",
    "print(outliers)"
   ]
  },
  {
   "cell_type": "code",
   "execution_count": 39,
   "metadata": {},
   "outputs": [
    {
     "output_type": "execute_result",
     "data": {
      "text/plain": [
       "         incident_id        date    state city_or_county  n_killed  n_injured  \\\n",
       "0             478855  2013-01-01     Ohio         Lorain         1          3   \n",
       "1             478855  2013-01-01     Ohio         Lorain         1          3   \n",
       "2             478855  2013-01-01     Ohio         Lorain         1          3   \n",
       "3             478855  2013-01-01     Ohio         Lorain         1          3   \n",
       "4             478855  2013-01-01     Ohio         Lorain         1          3   \n",
       "...              ...         ...      ...            ...       ...        ...   \n",
       "5331101      1017950  2017-12-23  Montana   Stevensville         0          1   \n",
       "5331102      1017950  2017-12-23  Montana   Stevensville         0          1   \n",
       "5331103      1017950  2017-12-23  Montana   Stevensville         0          1   \n",
       "5331104      1015876  2017-12-28  Montana      Kalispell         0          1   \n",
       "5331105      1015876  2017-12-28  Montana      Kalispell         0          1   \n",
       "\n",
       "                 source latitude longitude n_guns_involved participant_id  \\\n",
       "0         northcoastnow  41.4455  -82.1377             2.0              2   \n",
       "1         northcoastnow  41.4455  -82.1377             2.0              2   \n",
       "2         northcoastnow  41.4455  -82.1377             2.0              2   \n",
       "3         northcoastnow  41.4455  -82.1377             2.0              2   \n",
       "4         northcoastnow  41.4455  -82.1377             2.0              2   \n",
       "...                 ...      ...       ...             ...            ...   \n",
       "5331101             com  46.5115  -114.094             2.0              0   \n",
       "5331102             com  46.5115  -114.094             2.0              0   \n",
       "5331103             com  46.5115  -114.094             2.0              0   \n",
       "5331104  dailyinterlake   48.139  -114.202             1.0              0   \n",
       "5331105  dailyinterlake   48.139  -114.202             1.0              0   \n",
       "\n",
       "        participant_age_group participant_gender participant_status  \\\n",
       "0                   Adult 18+               Male             Killed   \n",
       "1                   Adult 18+               Male             Killed   \n",
       "2                   Adult 18+               Male             Killed   \n",
       "3                   Adult 18+               Male             Killed   \n",
       "4                   Adult 18+               Male             Killed   \n",
       "...                       ...                ...                ...   \n",
       "5331101             Adult 18+               Male            Injured   \n",
       "5331102             Adult 18+               Male            Injured   \n",
       "5331103             Adult 18+               Male            Injured   \n",
       "5331104             Adult 18+               Male            Injured   \n",
       "5331105             Adult 18+               Male            Injured   \n",
       "\n",
       "        participant_type gun_type  year  felony  permit  permith  training  \\\n",
       "0                 Victim  Unknown  2013       0       0        0         0   \n",
       "1                 Victim  Unknown  2013       0       0        0         0   \n",
       "2                 Victim  Unknown  2013       0       0        0         0   \n",
       "3                 Victim  Unknown  2013       0       0        0         0   \n",
       "4                 Victim  Unknown  2013       0       0        0         0   \n",
       "...                  ...      ...   ...     ...     ...      ...       ...   \n",
       "5331101           Victim      9mm  2017       0       0        0         0   \n",
       "5331102           Victim    22 LR  2017       0       0        0         0   \n",
       "5331103           Victim      9mm  2017       0       0        0         0   \n",
       "5331104           Victim  Unknown  2017       0       0        0         0   \n",
       "5331105           Victim  Unknown  2017       0       0        0         0   \n",
       "\n",
       "         age21handgunsale  age18longgunsale  age21longgunsaled  \\\n",
       "0                       1                 1                  0   \n",
       "1                       1                 1                  0   \n",
       "2                       1                 1                  0   \n",
       "3                       1                 1                  0   \n",
       "4                       1                 1                  0   \n",
       "...                   ...               ...                ...   \n",
       "5331101                 0                 0                  0   \n",
       "5331102                 0                 0                  0   \n",
       "5331103                 0                 0                  0   \n",
       "5331104                 0                 0                  0   \n",
       "5331105                 0                 0                  0   \n",
       "\n",
       "         age21longgunsale  age21handgunpossess  age18longgunpossess  \\\n",
       "0                       0                    0                    0   \n",
       "1                       0                    0                    0   \n",
       "2                       0                    0                    0   \n",
       "3                       0                    0                    0   \n",
       "4                       0                    0                    0   \n",
       "...                   ...                  ...                  ...   \n",
       "5331101                 0                    0                    0   \n",
       "5331102                 0                    0                    0   \n",
       "5331103                 0                    0                    0   \n",
       "5331104                 0                    0                    0   \n",
       "5331105                 0                    0                    0   \n",
       "\n",
       "         age21longgunpossess  mentalhealth  lawtotal  \n",
       "0                          0             0        15  \n",
       "1                          0             0        15  \n",
       "2                          0             0        15  \n",
       "3                          0             0        15  \n",
       "4                          0             0        15  \n",
       "...                      ...           ...       ...  \n",
       "5331101                    0             0         4  \n",
       "5331102                    0             0         4  \n",
       "5331103                    0             0         4  \n",
       "5331104                    0             0         4  \n",
       "5331105                    0             0         4  \n",
       "\n",
       "[5331106 rows x 30 columns]"
      ],
      "text/html": "<div>\n<style scoped>\n    .dataframe tbody tr th:only-of-type {\n        vertical-align: middle;\n    }\n\n    .dataframe tbody tr th {\n        vertical-align: top;\n    }\n\n    .dataframe thead th {\n        text-align: right;\n    }\n</style>\n<table border=\"1\" class=\"dataframe\">\n  <thead>\n    <tr style=\"text-align: right;\">\n      <th></th>\n      <th>incident_id</th>\n      <th>date</th>\n      <th>state</th>\n      <th>city_or_county</th>\n      <th>n_killed</th>\n      <th>n_injured</th>\n      <th>source</th>\n      <th>latitude</th>\n      <th>longitude</th>\n      <th>n_guns_involved</th>\n      <th>participant_id</th>\n      <th>participant_age_group</th>\n      <th>participant_gender</th>\n      <th>participant_status</th>\n      <th>participant_type</th>\n      <th>gun_type</th>\n      <th>year</th>\n      <th>felony</th>\n      <th>permit</th>\n      <th>permith</th>\n      <th>training</th>\n      <th>age21handgunsale</th>\n      <th>age18longgunsale</th>\n      <th>age21longgunsaled</th>\n      <th>age21longgunsale</th>\n      <th>age21handgunpossess</th>\n      <th>age18longgunpossess</th>\n      <th>age21longgunpossess</th>\n      <th>mentalhealth</th>\n      <th>lawtotal</th>\n    </tr>\n  </thead>\n  <tbody>\n    <tr>\n      <th>0</th>\n      <td>478855</td>\n      <td>2013-01-01</td>\n      <td>Ohio</td>\n      <td>Lorain</td>\n      <td>1</td>\n      <td>3</td>\n      <td>northcoastnow</td>\n      <td>41.4455</td>\n      <td>-82.1377</td>\n      <td>2.0</td>\n      <td>2</td>\n      <td>Adult 18+</td>\n      <td>Male</td>\n      <td>Killed</td>\n      <td>Victim</td>\n      <td>Unknown</td>\n      <td>2013</td>\n      <td>0</td>\n      <td>0</td>\n      <td>0</td>\n      <td>0</td>\n      <td>1</td>\n      <td>1</td>\n      <td>0</td>\n      <td>0</td>\n      <td>0</td>\n      <td>0</td>\n      <td>0</td>\n      <td>0</td>\n      <td>15</td>\n    </tr>\n    <tr>\n      <th>1</th>\n      <td>478855</td>\n      <td>2013-01-01</td>\n      <td>Ohio</td>\n      <td>Lorain</td>\n      <td>1</td>\n      <td>3</td>\n      <td>northcoastnow</td>\n      <td>41.4455</td>\n      <td>-82.1377</td>\n      <td>2.0</td>\n      <td>2</td>\n      <td>Adult 18+</td>\n      <td>Male</td>\n      <td>Killed</td>\n      <td>Victim</td>\n      <td>Unknown</td>\n      <td>2013</td>\n      <td>0</td>\n      <td>0</td>\n      <td>0</td>\n      <td>0</td>\n      <td>1</td>\n      <td>1</td>\n      <td>0</td>\n      <td>0</td>\n      <td>0</td>\n      <td>0</td>\n      <td>0</td>\n      <td>0</td>\n      <td>15</td>\n    </tr>\n    <tr>\n      <th>2</th>\n      <td>478855</td>\n      <td>2013-01-01</td>\n      <td>Ohio</td>\n      <td>Lorain</td>\n      <td>1</td>\n      <td>3</td>\n      <td>northcoastnow</td>\n      <td>41.4455</td>\n      <td>-82.1377</td>\n      <td>2.0</td>\n      <td>2</td>\n      <td>Adult 18+</td>\n      <td>Male</td>\n      <td>Killed</td>\n      <td>Victim</td>\n      <td>Unknown</td>\n      <td>2013</td>\n      <td>0</td>\n      <td>0</td>\n      <td>0</td>\n      <td>0</td>\n      <td>1</td>\n      <td>1</td>\n      <td>0</td>\n      <td>0</td>\n      <td>0</td>\n      <td>0</td>\n      <td>0</td>\n      <td>0</td>\n      <td>15</td>\n    </tr>\n    <tr>\n      <th>3</th>\n      <td>478855</td>\n      <td>2013-01-01</td>\n      <td>Ohio</td>\n      <td>Lorain</td>\n      <td>1</td>\n      <td>3</td>\n      <td>northcoastnow</td>\n      <td>41.4455</td>\n      <td>-82.1377</td>\n      <td>2.0</td>\n      <td>2</td>\n      <td>Adult 18+</td>\n      <td>Male</td>\n      <td>Killed</td>\n      <td>Victim</td>\n      <td>Unknown</td>\n      <td>2013</td>\n      <td>0</td>\n      <td>0</td>\n      <td>0</td>\n      <td>0</td>\n      <td>1</td>\n      <td>1</td>\n      <td>0</td>\n      <td>0</td>\n      <td>0</td>\n      <td>0</td>\n      <td>0</td>\n      <td>0</td>\n      <td>15</td>\n    </tr>\n    <tr>\n      <th>4</th>\n      <td>478855</td>\n      <td>2013-01-01</td>\n      <td>Ohio</td>\n      <td>Lorain</td>\n      <td>1</td>\n      <td>3</td>\n      <td>northcoastnow</td>\n      <td>41.4455</td>\n      <td>-82.1377</td>\n      <td>2.0</td>\n      <td>2</td>\n      <td>Adult 18+</td>\n      <td>Male</td>\n      <td>Killed</td>\n      <td>Victim</td>\n      <td>Unknown</td>\n      <td>2013</td>\n      <td>0</td>\n      <td>0</td>\n      <td>0</td>\n      <td>0</td>\n      <td>1</td>\n      <td>1</td>\n      <td>0</td>\n      <td>0</td>\n      <td>0</td>\n      <td>0</td>\n      <td>0</td>\n      <td>0</td>\n      <td>15</td>\n    </tr>\n    <tr>\n      <th>...</th>\n      <td>...</td>\n      <td>...</td>\n      <td>...</td>\n      <td>...</td>\n      <td>...</td>\n      <td>...</td>\n      <td>...</td>\n      <td>...</td>\n      <td>...</td>\n      <td>...</td>\n      <td>...</td>\n      <td>...</td>\n      <td>...</td>\n      <td>...</td>\n      <td>...</td>\n      <td>...</td>\n      <td>...</td>\n      <td>...</td>\n      <td>...</td>\n      <td>...</td>\n      <td>...</td>\n      <td>...</td>\n      <td>...</td>\n      <td>...</td>\n      <td>...</td>\n      <td>...</td>\n      <td>...</td>\n      <td>...</td>\n      <td>...</td>\n      <td>...</td>\n    </tr>\n    <tr>\n      <th>5331101</th>\n      <td>1017950</td>\n      <td>2017-12-23</td>\n      <td>Montana</td>\n      <td>Stevensville</td>\n      <td>0</td>\n      <td>1</td>\n      <td>com</td>\n      <td>46.5115</td>\n      <td>-114.094</td>\n      <td>2.0</td>\n      <td>0</td>\n      <td>Adult 18+</td>\n      <td>Male</td>\n      <td>Injured</td>\n      <td>Victim</td>\n      <td>9mm</td>\n      <td>2017</td>\n      <td>0</td>\n      <td>0</td>\n      <td>0</td>\n      <td>0</td>\n      <td>0</td>\n      <td>0</td>\n      <td>0</td>\n      <td>0</td>\n      <td>0</td>\n      <td>0</td>\n      <td>0</td>\n      <td>0</td>\n      <td>4</td>\n    </tr>\n    <tr>\n      <th>5331102</th>\n      <td>1017950</td>\n      <td>2017-12-23</td>\n      <td>Montana</td>\n      <td>Stevensville</td>\n      <td>0</td>\n      <td>1</td>\n      <td>com</td>\n      <td>46.5115</td>\n      <td>-114.094</td>\n      <td>2.0</td>\n      <td>0</td>\n      <td>Adult 18+</td>\n      <td>Male</td>\n      <td>Injured</td>\n      <td>Victim</td>\n      <td>22 LR</td>\n      <td>2017</td>\n      <td>0</td>\n      <td>0</td>\n      <td>0</td>\n      <td>0</td>\n      <td>0</td>\n      <td>0</td>\n      <td>0</td>\n      <td>0</td>\n      <td>0</td>\n      <td>0</td>\n      <td>0</td>\n      <td>0</td>\n      <td>4</td>\n    </tr>\n    <tr>\n      <th>5331103</th>\n      <td>1017950</td>\n      <td>2017-12-23</td>\n      <td>Montana</td>\n      <td>Stevensville</td>\n      <td>0</td>\n      <td>1</td>\n      <td>com</td>\n      <td>46.5115</td>\n      <td>-114.094</td>\n      <td>2.0</td>\n      <td>0</td>\n      <td>Adult 18+</td>\n      <td>Male</td>\n      <td>Injured</td>\n      <td>Victim</td>\n      <td>9mm</td>\n      <td>2017</td>\n      <td>0</td>\n      <td>0</td>\n      <td>0</td>\n      <td>0</td>\n      <td>0</td>\n      <td>0</td>\n      <td>0</td>\n      <td>0</td>\n      <td>0</td>\n      <td>0</td>\n      <td>0</td>\n      <td>0</td>\n      <td>4</td>\n    </tr>\n    <tr>\n      <th>5331104</th>\n      <td>1015876</td>\n      <td>2017-12-28</td>\n      <td>Montana</td>\n      <td>Kalispell</td>\n      <td>0</td>\n      <td>1</td>\n      <td>dailyinterlake</td>\n      <td>48.139</td>\n      <td>-114.202</td>\n      <td>1.0</td>\n      <td>0</td>\n      <td>Adult 18+</td>\n      <td>Male</td>\n      <td>Injured</td>\n      <td>Victim</td>\n      <td>Unknown</td>\n      <td>2017</td>\n      <td>0</td>\n      <td>0</td>\n      <td>0</td>\n      <td>0</td>\n      <td>0</td>\n      <td>0</td>\n      <td>0</td>\n      <td>0</td>\n      <td>0</td>\n      <td>0</td>\n      <td>0</td>\n      <td>0</td>\n      <td>4</td>\n    </tr>\n    <tr>\n      <th>5331105</th>\n      <td>1015876</td>\n      <td>2017-12-28</td>\n      <td>Montana</td>\n      <td>Kalispell</td>\n      <td>0</td>\n      <td>1</td>\n      <td>dailyinterlake</td>\n      <td>48.139</td>\n      <td>-114.202</td>\n      <td>1.0</td>\n      <td>0</td>\n      <td>Adult 18+</td>\n      <td>Male</td>\n      <td>Injured</td>\n      <td>Victim</td>\n      <td>Unknown</td>\n      <td>2017</td>\n      <td>0</td>\n      <td>0</td>\n      <td>0</td>\n      <td>0</td>\n      <td>0</td>\n      <td>0</td>\n      <td>0</td>\n      <td>0</td>\n      <td>0</td>\n      <td>0</td>\n      <td>0</td>\n      <td>0</td>\n      <td>4</td>\n    </tr>\n  </tbody>\n</table>\n<p>5331106 rows × 30 columns</p>\n</div>"
     },
     "metadata": {},
     "execution_count": 39
    }
   ],
   "source": [
    "df"
   ]
  },
  {
   "cell_type": "markdown",
   "metadata": {},
   "source": [
    "**Filling Unknown Gun Type with Most frequently observed Gun Type in city**"
   ]
  },
  {
   "cell_type": "code",
   "execution_count": 40,
   "metadata": {},
   "outputs": [],
   "source": [
    "# Group by state city and gun type and get the size\n",
    "\n",
    "a = df[['state','city_or_county','gun_type']]\n",
    "\n",
    "a = a.groupby(\n",
    "    by=['state','city_or_county','gun_type'],\n",
    "    as_index=False,\n",
    ").size()\n",
    "\n",
    "indexNames = a[a['gun_type'] == 'Unknown' ].index\n",
    "a.drop(indexNames , inplace=True)"
   ]
  },
  {
   "cell_type": "code",
   "execution_count": 41,
   "metadata": {},
   "outputs": [],
   "source": [
    "# Sort size by descending order to get most frequently used\n",
    "a = a.sort_values(\n",
    "    by=[\"state\", \"city_or_county\", \"gun_type\",\"size\"],\n",
    "    ascending=[True, True, True, False],\n",
    ")"
   ]
  },
  {
   "cell_type": "code",
   "execution_count": 42,
   "metadata": {},
   "outputs": [],
   "source": [
    "# To get just the top row of group\n",
    "a = a.groupby(\n",
    "    by=[\"state\", \"city_or_county\"],\n",
    "    as_index=False,\n",
    ").first()"
   ]
  },
  {
   "cell_type": "code",
   "execution_count": 43,
   "metadata": {},
   "outputs": [],
   "source": [
    "a.drop(columns=[\"size\"], inplace=True)\n",
    "a.rename(\n",
    "    columns={\"gun_type\": \"most_frequent_gun_type\"},inplace=True)"
   ]
  },
  {
   "cell_type": "code",
   "execution_count": 44,
   "metadata": {},
   "outputs": [
    {
     "output_type": "execute_result",
     "data": {
      "text/plain": [
       "        state     city_or_county most_frequent_gun_type\n",
       "0     Alabama         Adamsville                Handgun\n",
       "1     Alabama              Adger                Handgun\n",
       "2     Alabama     Alexander City                  40 SW\n",
       "3     Alabama               Arab                25 Auto\n",
       "4     Alabama             Athens                  22 LR\n",
       "...       ...                ...                    ...\n",
       "7500  Wyoming       Rock Springs                Handgun\n",
       "7501  Wyoming           Sheridan                    9mm\n",
       "7502  Wyoming           Shoshoni                  Other\n",
       "7503  Wyoming     Teton (county)        223 Rem [AR-15]\n",
       "7504  Wyoming  Washakie (county)                Handgun\n",
       "\n",
       "[7505 rows x 3 columns]"
      ],
      "text/html": "<div>\n<style scoped>\n    .dataframe tbody tr th:only-of-type {\n        vertical-align: middle;\n    }\n\n    .dataframe tbody tr th {\n        vertical-align: top;\n    }\n\n    .dataframe thead th {\n        text-align: right;\n    }\n</style>\n<table border=\"1\" class=\"dataframe\">\n  <thead>\n    <tr style=\"text-align: right;\">\n      <th></th>\n      <th>state</th>\n      <th>city_or_county</th>\n      <th>most_frequent_gun_type</th>\n    </tr>\n  </thead>\n  <tbody>\n    <tr>\n      <th>0</th>\n      <td>Alabama</td>\n      <td>Adamsville</td>\n      <td>Handgun</td>\n    </tr>\n    <tr>\n      <th>1</th>\n      <td>Alabama</td>\n      <td>Adger</td>\n      <td>Handgun</td>\n    </tr>\n    <tr>\n      <th>2</th>\n      <td>Alabama</td>\n      <td>Alexander City</td>\n      <td>40 SW</td>\n    </tr>\n    <tr>\n      <th>3</th>\n      <td>Alabama</td>\n      <td>Arab</td>\n      <td>25 Auto</td>\n    </tr>\n    <tr>\n      <th>4</th>\n      <td>Alabama</td>\n      <td>Athens</td>\n      <td>22 LR</td>\n    </tr>\n    <tr>\n      <th>...</th>\n      <td>...</td>\n      <td>...</td>\n      <td>...</td>\n    </tr>\n    <tr>\n      <th>7500</th>\n      <td>Wyoming</td>\n      <td>Rock Springs</td>\n      <td>Handgun</td>\n    </tr>\n    <tr>\n      <th>7501</th>\n      <td>Wyoming</td>\n      <td>Sheridan</td>\n      <td>9mm</td>\n    </tr>\n    <tr>\n      <th>7502</th>\n      <td>Wyoming</td>\n      <td>Shoshoni</td>\n      <td>Other</td>\n    </tr>\n    <tr>\n      <th>7503</th>\n      <td>Wyoming</td>\n      <td>Teton (county)</td>\n      <td>223 Rem [AR-15]</td>\n    </tr>\n    <tr>\n      <th>7504</th>\n      <td>Wyoming</td>\n      <td>Washakie (county)</td>\n      <td>Handgun</td>\n    </tr>\n  </tbody>\n</table>\n<p>7505 rows × 3 columns</p>\n</div>"
     },
     "metadata": {},
     "execution_count": 44
    }
   ],
   "source": [
    "a"
   ]
  },
  {
   "cell_type": "code",
   "execution_count": 45,
   "metadata": {},
   "outputs": [
    {
     "output_type": "execute_result",
     "data": {
      "text/plain": [
       "75"
      ]
     },
     "metadata": {},
     "execution_count": 45
    }
   ],
   "source": [
    "# Merge a with df on state and city\n",
    "df = pd.merge(df, a, on=['state', 'city_or_county'], how='left')\n",
    "df['gun_type'] = df['gun_type'].replace('Unknown', np.NaN)\n",
    "df['gun_type'].fillna(df['most_frequent_gun_type'], inplace=True)\n",
    "\n",
    "# Drop column\n",
    "df.drop(columns=['most_frequent_gun_type'], inplace=True)\n",
    "\n",
    "\n",
    "del a\n",
    "gc.collect()"
   ]
  },
  {
   "cell_type": "code",
   "execution_count": 46,
   "metadata": {},
   "outputs": [],
   "source": [
    "df.to_csv(\"Cleaned_Gun_Violence.csv\")"
   ]
  },
  {
   "cell_type": "code",
   "execution_count": 47,
   "metadata": {},
   "outputs": [
    {
     "output_type": "execute_result",
     "data": {
      "text/plain": [
       "         incident_id        date    state city_or_county  n_killed  n_injured  \\\n",
       "0             478855  2013-01-01     Ohio         Lorain         1          3   \n",
       "1             478855  2013-01-01     Ohio         Lorain         1          3   \n",
       "2             478855  2013-01-01     Ohio         Lorain         1          3   \n",
       "3             478855  2013-01-01     Ohio         Lorain         1          3   \n",
       "4             478855  2013-01-01     Ohio         Lorain         1          3   \n",
       "...              ...         ...      ...            ...       ...        ...   \n",
       "5331101      1017950  2017-12-23  Montana   Stevensville         0          1   \n",
       "5331102      1017950  2017-12-23  Montana   Stevensville         0          1   \n",
       "5331103      1017950  2017-12-23  Montana   Stevensville         0          1   \n",
       "5331104      1015876  2017-12-28  Montana      Kalispell         0          1   \n",
       "5331105      1015876  2017-12-28  Montana      Kalispell         0          1   \n",
       "\n",
       "                 source latitude longitude n_guns_involved participant_id  \\\n",
       "0         northcoastnow  41.4455  -82.1377             2.0              2   \n",
       "1         northcoastnow  41.4455  -82.1377             2.0              2   \n",
       "2         northcoastnow  41.4455  -82.1377             2.0              2   \n",
       "3         northcoastnow  41.4455  -82.1377             2.0              2   \n",
       "4         northcoastnow  41.4455  -82.1377             2.0              2   \n",
       "...                 ...      ...       ...             ...            ...   \n",
       "5331101             com  46.5115  -114.094             2.0              0   \n",
       "5331102             com  46.5115  -114.094             2.0              0   \n",
       "5331103             com  46.5115  -114.094             2.0              0   \n",
       "5331104  dailyinterlake   48.139  -114.202             1.0              0   \n",
       "5331105  dailyinterlake   48.139  -114.202             1.0              0   \n",
       "\n",
       "        participant_age_group participant_gender participant_status  \\\n",
       "0                   Adult 18+               Male             Killed   \n",
       "1                   Adult 18+               Male             Killed   \n",
       "2                   Adult 18+               Male             Killed   \n",
       "3                   Adult 18+               Male             Killed   \n",
       "4                   Adult 18+               Male             Killed   \n",
       "...                       ...                ...                ...   \n",
       "5331101             Adult 18+               Male            Injured   \n",
       "5331102             Adult 18+               Male            Injured   \n",
       "5331103             Adult 18+               Male            Injured   \n",
       "5331104             Adult 18+               Male            Injured   \n",
       "5331105             Adult 18+               Male            Injured   \n",
       "\n",
       "        participant_type gun_type  year  felony  permit  permith  training  \\\n",
       "0                 Victim    22 LR  2013       0       0        0         0   \n",
       "1                 Victim    22 LR  2013       0       0        0         0   \n",
       "2                 Victim    22 LR  2013       0       0        0         0   \n",
       "3                 Victim    22 LR  2013       0       0        0         0   \n",
       "4                 Victim    22 LR  2013       0       0        0         0   \n",
       "...                  ...      ...   ...     ...     ...      ...       ...   \n",
       "5331101           Victim      9mm  2017       0       0        0         0   \n",
       "5331102           Victim    22 LR  2017       0       0        0         0   \n",
       "5331103           Victim      9mm  2017       0       0        0         0   \n",
       "5331104           Victim    40 SW  2017       0       0        0         0   \n",
       "5331105           Victim    40 SW  2017       0       0        0         0   \n",
       "\n",
       "         age21handgunsale  age18longgunsale  age21longgunsaled  \\\n",
       "0                       1                 1                  0   \n",
       "1                       1                 1                  0   \n",
       "2                       1                 1                  0   \n",
       "3                       1                 1                  0   \n",
       "4                       1                 1                  0   \n",
       "...                   ...               ...                ...   \n",
       "5331101                 0                 0                  0   \n",
       "5331102                 0                 0                  0   \n",
       "5331103                 0                 0                  0   \n",
       "5331104                 0                 0                  0   \n",
       "5331105                 0                 0                  0   \n",
       "\n",
       "         age21longgunsale  age21handgunpossess  age18longgunpossess  \\\n",
       "0                       0                    0                    0   \n",
       "1                       0                    0                    0   \n",
       "2                       0                    0                    0   \n",
       "3                       0                    0                    0   \n",
       "4                       0                    0                    0   \n",
       "...                   ...                  ...                  ...   \n",
       "5331101                 0                    0                    0   \n",
       "5331102                 0                    0                    0   \n",
       "5331103                 0                    0                    0   \n",
       "5331104                 0                    0                    0   \n",
       "5331105                 0                    0                    0   \n",
       "\n",
       "         age21longgunpossess  mentalhealth  lawtotal  \n",
       "0                          0             0        15  \n",
       "1                          0             0        15  \n",
       "2                          0             0        15  \n",
       "3                          0             0        15  \n",
       "4                          0             0        15  \n",
       "...                      ...           ...       ...  \n",
       "5331101                    0             0         4  \n",
       "5331102                    0             0         4  \n",
       "5331103                    0             0         4  \n",
       "5331104                    0             0         4  \n",
       "5331105                    0             0         4  \n",
       "\n",
       "[5331106 rows x 30 columns]"
      ],
      "text/html": "<div>\n<style scoped>\n    .dataframe tbody tr th:only-of-type {\n        vertical-align: middle;\n    }\n\n    .dataframe tbody tr th {\n        vertical-align: top;\n    }\n\n    .dataframe thead th {\n        text-align: right;\n    }\n</style>\n<table border=\"1\" class=\"dataframe\">\n  <thead>\n    <tr style=\"text-align: right;\">\n      <th></th>\n      <th>incident_id</th>\n      <th>date</th>\n      <th>state</th>\n      <th>city_or_county</th>\n      <th>n_killed</th>\n      <th>n_injured</th>\n      <th>source</th>\n      <th>latitude</th>\n      <th>longitude</th>\n      <th>n_guns_involved</th>\n      <th>participant_id</th>\n      <th>participant_age_group</th>\n      <th>participant_gender</th>\n      <th>participant_status</th>\n      <th>participant_type</th>\n      <th>gun_type</th>\n      <th>year</th>\n      <th>felony</th>\n      <th>permit</th>\n      <th>permith</th>\n      <th>training</th>\n      <th>age21handgunsale</th>\n      <th>age18longgunsale</th>\n      <th>age21longgunsaled</th>\n      <th>age21longgunsale</th>\n      <th>age21handgunpossess</th>\n      <th>age18longgunpossess</th>\n      <th>age21longgunpossess</th>\n      <th>mentalhealth</th>\n      <th>lawtotal</th>\n    </tr>\n  </thead>\n  <tbody>\n    <tr>\n      <th>0</th>\n      <td>478855</td>\n      <td>2013-01-01</td>\n      <td>Ohio</td>\n      <td>Lorain</td>\n      <td>1</td>\n      <td>3</td>\n      <td>northcoastnow</td>\n      <td>41.4455</td>\n      <td>-82.1377</td>\n      <td>2.0</td>\n      <td>2</td>\n      <td>Adult 18+</td>\n      <td>Male</td>\n      <td>Killed</td>\n      <td>Victim</td>\n      <td>22 LR</td>\n      <td>2013</td>\n      <td>0</td>\n      <td>0</td>\n      <td>0</td>\n      <td>0</td>\n      <td>1</td>\n      <td>1</td>\n      <td>0</td>\n      <td>0</td>\n      <td>0</td>\n      <td>0</td>\n      <td>0</td>\n      <td>0</td>\n      <td>15</td>\n    </tr>\n    <tr>\n      <th>1</th>\n      <td>478855</td>\n      <td>2013-01-01</td>\n      <td>Ohio</td>\n      <td>Lorain</td>\n      <td>1</td>\n      <td>3</td>\n      <td>northcoastnow</td>\n      <td>41.4455</td>\n      <td>-82.1377</td>\n      <td>2.0</td>\n      <td>2</td>\n      <td>Adult 18+</td>\n      <td>Male</td>\n      <td>Killed</td>\n      <td>Victim</td>\n      <td>22 LR</td>\n      <td>2013</td>\n      <td>0</td>\n      <td>0</td>\n      <td>0</td>\n      <td>0</td>\n      <td>1</td>\n      <td>1</td>\n      <td>0</td>\n      <td>0</td>\n      <td>0</td>\n      <td>0</td>\n      <td>0</td>\n      <td>0</td>\n      <td>15</td>\n    </tr>\n    <tr>\n      <th>2</th>\n      <td>478855</td>\n      <td>2013-01-01</td>\n      <td>Ohio</td>\n      <td>Lorain</td>\n      <td>1</td>\n      <td>3</td>\n      <td>northcoastnow</td>\n      <td>41.4455</td>\n      <td>-82.1377</td>\n      <td>2.0</td>\n      <td>2</td>\n      <td>Adult 18+</td>\n      <td>Male</td>\n      <td>Killed</td>\n      <td>Victim</td>\n      <td>22 LR</td>\n      <td>2013</td>\n      <td>0</td>\n      <td>0</td>\n      <td>0</td>\n      <td>0</td>\n      <td>1</td>\n      <td>1</td>\n      <td>0</td>\n      <td>0</td>\n      <td>0</td>\n      <td>0</td>\n      <td>0</td>\n      <td>0</td>\n      <td>15</td>\n    </tr>\n    <tr>\n      <th>3</th>\n      <td>478855</td>\n      <td>2013-01-01</td>\n      <td>Ohio</td>\n      <td>Lorain</td>\n      <td>1</td>\n      <td>3</td>\n      <td>northcoastnow</td>\n      <td>41.4455</td>\n      <td>-82.1377</td>\n      <td>2.0</td>\n      <td>2</td>\n      <td>Adult 18+</td>\n      <td>Male</td>\n      <td>Killed</td>\n      <td>Victim</td>\n      <td>22 LR</td>\n      <td>2013</td>\n      <td>0</td>\n      <td>0</td>\n      <td>0</td>\n      <td>0</td>\n      <td>1</td>\n      <td>1</td>\n      <td>0</td>\n      <td>0</td>\n      <td>0</td>\n      <td>0</td>\n      <td>0</td>\n      <td>0</td>\n      <td>15</td>\n    </tr>\n    <tr>\n      <th>4</th>\n      <td>478855</td>\n      <td>2013-01-01</td>\n      <td>Ohio</td>\n      <td>Lorain</td>\n      <td>1</td>\n      <td>3</td>\n      <td>northcoastnow</td>\n      <td>41.4455</td>\n      <td>-82.1377</td>\n      <td>2.0</td>\n      <td>2</td>\n      <td>Adult 18+</td>\n      <td>Male</td>\n      <td>Killed</td>\n      <td>Victim</td>\n      <td>22 LR</td>\n      <td>2013</td>\n      <td>0</td>\n      <td>0</td>\n      <td>0</td>\n      <td>0</td>\n      <td>1</td>\n      <td>1</td>\n      <td>0</td>\n      <td>0</td>\n      <td>0</td>\n      <td>0</td>\n      <td>0</td>\n      <td>0</td>\n      <td>15</td>\n    </tr>\n    <tr>\n      <th>...</th>\n      <td>...</td>\n      <td>...</td>\n      <td>...</td>\n      <td>...</td>\n      <td>...</td>\n      <td>...</td>\n      <td>...</td>\n      <td>...</td>\n      <td>...</td>\n      <td>...</td>\n      <td>...</td>\n      <td>...</td>\n      <td>...</td>\n      <td>...</td>\n      <td>...</td>\n      <td>...</td>\n      <td>...</td>\n      <td>...</td>\n      <td>...</td>\n      <td>...</td>\n      <td>...</td>\n      <td>...</td>\n      <td>...</td>\n      <td>...</td>\n      <td>...</td>\n      <td>...</td>\n      <td>...</td>\n      <td>...</td>\n      <td>...</td>\n      <td>...</td>\n    </tr>\n    <tr>\n      <th>5331101</th>\n      <td>1017950</td>\n      <td>2017-12-23</td>\n      <td>Montana</td>\n      <td>Stevensville</td>\n      <td>0</td>\n      <td>1</td>\n      <td>com</td>\n      <td>46.5115</td>\n      <td>-114.094</td>\n      <td>2.0</td>\n      <td>0</td>\n      <td>Adult 18+</td>\n      <td>Male</td>\n      <td>Injured</td>\n      <td>Victim</td>\n      <td>9mm</td>\n      <td>2017</td>\n      <td>0</td>\n      <td>0</td>\n      <td>0</td>\n      <td>0</td>\n      <td>0</td>\n      <td>0</td>\n      <td>0</td>\n      <td>0</td>\n      <td>0</td>\n      <td>0</td>\n      <td>0</td>\n      <td>0</td>\n      <td>4</td>\n    </tr>\n    <tr>\n      <th>5331102</th>\n      <td>1017950</td>\n      <td>2017-12-23</td>\n      <td>Montana</td>\n      <td>Stevensville</td>\n      <td>0</td>\n      <td>1</td>\n      <td>com</td>\n      <td>46.5115</td>\n      <td>-114.094</td>\n      <td>2.0</td>\n      <td>0</td>\n      <td>Adult 18+</td>\n      <td>Male</td>\n      <td>Injured</td>\n      <td>Victim</td>\n      <td>22 LR</td>\n      <td>2017</td>\n      <td>0</td>\n      <td>0</td>\n      <td>0</td>\n      <td>0</td>\n      <td>0</td>\n      <td>0</td>\n      <td>0</td>\n      <td>0</td>\n      <td>0</td>\n      <td>0</td>\n      <td>0</td>\n      <td>0</td>\n      <td>4</td>\n    </tr>\n    <tr>\n      <th>5331103</th>\n      <td>1017950</td>\n      <td>2017-12-23</td>\n      <td>Montana</td>\n      <td>Stevensville</td>\n      <td>0</td>\n      <td>1</td>\n      <td>com</td>\n      <td>46.5115</td>\n      <td>-114.094</td>\n      <td>2.0</td>\n      <td>0</td>\n      <td>Adult 18+</td>\n      <td>Male</td>\n      <td>Injured</td>\n      <td>Victim</td>\n      <td>9mm</td>\n      <td>2017</td>\n      <td>0</td>\n      <td>0</td>\n      <td>0</td>\n      <td>0</td>\n      <td>0</td>\n      <td>0</td>\n      <td>0</td>\n      <td>0</td>\n      <td>0</td>\n      <td>0</td>\n      <td>0</td>\n      <td>0</td>\n      <td>4</td>\n    </tr>\n    <tr>\n      <th>5331104</th>\n      <td>1015876</td>\n      <td>2017-12-28</td>\n      <td>Montana</td>\n      <td>Kalispell</td>\n      <td>0</td>\n      <td>1</td>\n      <td>dailyinterlake</td>\n      <td>48.139</td>\n      <td>-114.202</td>\n      <td>1.0</td>\n      <td>0</td>\n      <td>Adult 18+</td>\n      <td>Male</td>\n      <td>Injured</td>\n      <td>Victim</td>\n      <td>40 SW</td>\n      <td>2017</td>\n      <td>0</td>\n      <td>0</td>\n      <td>0</td>\n      <td>0</td>\n      <td>0</td>\n      <td>0</td>\n      <td>0</td>\n      <td>0</td>\n      <td>0</td>\n      <td>0</td>\n      <td>0</td>\n      <td>0</td>\n      <td>4</td>\n    </tr>\n    <tr>\n      <th>5331105</th>\n      <td>1015876</td>\n      <td>2017-12-28</td>\n      <td>Montana</td>\n      <td>Kalispell</td>\n      <td>0</td>\n      <td>1</td>\n      <td>dailyinterlake</td>\n      <td>48.139</td>\n      <td>-114.202</td>\n      <td>1.0</td>\n      <td>0</td>\n      <td>Adult 18+</td>\n      <td>Male</td>\n      <td>Injured</td>\n      <td>Victim</td>\n      <td>40 SW</td>\n      <td>2017</td>\n      <td>0</td>\n      <td>0</td>\n      <td>0</td>\n      <td>0</td>\n      <td>0</td>\n      <td>0</td>\n      <td>0</td>\n      <td>0</td>\n      <td>0</td>\n      <td>0</td>\n      <td>0</td>\n      <td>0</td>\n      <td>4</td>\n    </tr>\n  </tbody>\n</table>\n<p>5331106 rows × 30 columns</p>\n</div>"
     },
     "metadata": {},
     "execution_count": 47
    }
   ],
   "source": [
    "df"
   ]
  },
  {
   "cell_type": "markdown",
   "metadata": {},
   "source": [
    "Check and Drop Null Values"
   ]
  },
  {
   "cell_type": "code",
   "execution_count": 48,
   "metadata": {},
   "outputs": [
    {
     "output_type": "execute_result",
     "data": {
      "text/plain": [
       "Index(['gun_type'], dtype='object')"
      ]
     },
     "metadata": {},
     "execution_count": 48
    }
   ],
   "source": [
    "df.columns[df.isnull().any()]"
   ]
  },
  {
   "cell_type": "code",
   "execution_count": 49,
   "metadata": {},
   "outputs": [],
   "source": [
    "indexes = df[df['gun_type'].isnull()].index"
   ]
  },
  {
   "cell_type": "code",
   "execution_count": 50,
   "metadata": {},
   "outputs": [],
   "source": [
    "df.drop(indexes,axis=0,inplace=True)"
   ]
  },
  {
   "cell_type": "code",
   "execution_count": 51,
   "metadata": {},
   "outputs": [
    {
     "output_type": "execute_result",
     "data": {
      "text/plain": [
       "Index([], dtype='object')"
      ]
     },
     "metadata": {},
     "execution_count": 51
    }
   ],
   "source": [
    "df.columns[df.isnull().any()]"
   ]
  },
  {
   "cell_type": "code",
   "execution_count": 52,
   "metadata": {},
   "outputs": [
    {
     "output_type": "execute_result",
     "data": {
      "text/plain": [
       "Int64Index([], dtype='int64')"
      ]
     },
     "metadata": {},
     "execution_count": 52
    }
   ],
   "source": [
    "ind = df[df['gun_type'].isna()].index\n",
    "ind"
   ]
  },
  {
   "cell_type": "code",
   "execution_count": 53,
   "metadata": {},
   "outputs": [
    {
     "output_type": "execute_result",
     "data": {
      "text/plain": [
       "        incident_id      n_killed     n_injured          year        felony  \\\n",
       "count  5.187387e+06  5.187387e+06  5.187387e+06  5.187387e+06  5.187387e+06   \n",
       "mean   6.044382e+05  6.603859e-01  8.329369e-01  2.015961e+03  8.598689e-01   \n",
       "std    1.800347e+05  4.802626e+00  5.112161e+00  7.052416e-01  3.471230e-01   \n",
       "min    9.213500e+04  0.000000e+00  0.000000e+00  2.013000e+03  0.000000e+00   \n",
       "25%    5.489500e+05  0.000000e+00  0.000000e+00  2.016000e+03  1.000000e+00   \n",
       "50%    5.756630e+05  0.000000e+00  0.000000e+00  2.016000e+03  1.000000e+00   \n",
       "75%    6.813090e+05  0.000000e+00  0.000000e+00  2.016000e+03  1.000000e+00   \n",
       "max    1.083162e+06  5.000000e+01  5.300000e+01  2.017000e+03  1.000000e+00   \n",
       "\n",
       "             permit       permith      training  age21handgunsale  \\\n",
       "count  5.187387e+06  5.187387e+06  5.187387e+06      5.187387e+06   \n",
       "mean   5.524992e-01  6.428834e-01  5.131848e-01      6.102901e-01   \n",
       "std    4.972362e-01  4.791496e-01  4.998262e-01      4.876845e-01   \n",
       "min    0.000000e+00  0.000000e+00  0.000000e+00      0.000000e+00   \n",
       "25%    0.000000e+00  0.000000e+00  0.000000e+00      0.000000e+00   \n",
       "50%    1.000000e+00  1.000000e+00  1.000000e+00      1.000000e+00   \n",
       "75%    1.000000e+00  1.000000e+00  1.000000e+00      1.000000e+00   \n",
       "max    1.000000e+00  1.000000e+00  1.000000e+00      1.000000e+00   \n",
       "\n",
       "       age18longgunsale  age21longgunsaled  age21longgunsale  \\\n",
       "count      5.187387e+06       5.187387e+06      5.187387e+06   \n",
       "mean       7.496038e-01       5.316742e-04      5.316742e-04   \n",
       "std        4.332412e-01       2.305193e-02      2.305193e-02   \n",
       "min        0.000000e+00       0.000000e+00      0.000000e+00   \n",
       "25%        0.000000e+00       0.000000e+00      0.000000e+00   \n",
       "50%        1.000000e+00       0.000000e+00      0.000000e+00   \n",
       "75%        1.000000e+00       0.000000e+00      0.000000e+00   \n",
       "max        1.000000e+00       1.000000e+00      1.000000e+00   \n",
       "\n",
       "       age21handgunpossess  age18longgunpossess  age21longgunpossess  \\\n",
       "count         5.187387e+06         5.187387e+06         5.187387e+06   \n",
       "mean          5.330819e-01         5.933502e-01         4.515005e-01   \n",
       "std           4.989044e-01         4.912085e-01         4.976423e-01   \n",
       "min           0.000000e+00         0.000000e+00         0.000000e+00   \n",
       "25%           0.000000e+00         0.000000e+00         0.000000e+00   \n",
       "50%           1.000000e+00         1.000000e+00         0.000000e+00   \n",
       "75%           1.000000e+00         1.000000e+00         1.000000e+00   \n",
       "max           1.000000e+00         1.000000e+00         1.000000e+00   \n",
       "\n",
       "       mentalhealth      lawtotal  \n",
       "count  5.187387e+06  5.187387e+06  \n",
       "mean   6.421381e-01  6.492706e+01  \n",
       "std    4.793713e-01  3.864567e+01  \n",
       "min    0.000000e+00  3.000000e+00  \n",
       "25%    0.000000e+00  2.100000e+01  \n",
       "50%    1.000000e+00  8.900000e+01  \n",
       "75%    1.000000e+00  1.000000e+02  \n",
       "max    1.000000e+00  1.060000e+02  "
      ],
      "text/html": "<div>\n<style scoped>\n    .dataframe tbody tr th:only-of-type {\n        vertical-align: middle;\n    }\n\n    .dataframe tbody tr th {\n        vertical-align: top;\n    }\n\n    .dataframe thead th {\n        text-align: right;\n    }\n</style>\n<table border=\"1\" class=\"dataframe\">\n  <thead>\n    <tr style=\"text-align: right;\">\n      <th></th>\n      <th>incident_id</th>\n      <th>n_killed</th>\n      <th>n_injured</th>\n      <th>year</th>\n      <th>felony</th>\n      <th>permit</th>\n      <th>permith</th>\n      <th>training</th>\n      <th>age21handgunsale</th>\n      <th>age18longgunsale</th>\n      <th>age21longgunsaled</th>\n      <th>age21longgunsale</th>\n      <th>age21handgunpossess</th>\n      <th>age18longgunpossess</th>\n      <th>age21longgunpossess</th>\n      <th>mentalhealth</th>\n      <th>lawtotal</th>\n    </tr>\n  </thead>\n  <tbody>\n    <tr>\n      <th>count</th>\n      <td>5.187387e+06</td>\n      <td>5.187387e+06</td>\n      <td>5.187387e+06</td>\n      <td>5.187387e+06</td>\n      <td>5.187387e+06</td>\n      <td>5.187387e+06</td>\n      <td>5.187387e+06</td>\n      <td>5.187387e+06</td>\n      <td>5.187387e+06</td>\n      <td>5.187387e+06</td>\n      <td>5.187387e+06</td>\n      <td>5.187387e+06</td>\n      <td>5.187387e+06</td>\n      <td>5.187387e+06</td>\n      <td>5.187387e+06</td>\n      <td>5.187387e+06</td>\n      <td>5.187387e+06</td>\n    </tr>\n    <tr>\n      <th>mean</th>\n      <td>6.044382e+05</td>\n      <td>6.603859e-01</td>\n      <td>8.329369e-01</td>\n      <td>2.015961e+03</td>\n      <td>8.598689e-01</td>\n      <td>5.524992e-01</td>\n      <td>6.428834e-01</td>\n      <td>5.131848e-01</td>\n      <td>6.102901e-01</td>\n      <td>7.496038e-01</td>\n      <td>5.316742e-04</td>\n      <td>5.316742e-04</td>\n      <td>5.330819e-01</td>\n      <td>5.933502e-01</td>\n      <td>4.515005e-01</td>\n      <td>6.421381e-01</td>\n      <td>6.492706e+01</td>\n    </tr>\n    <tr>\n      <th>std</th>\n      <td>1.800347e+05</td>\n      <td>4.802626e+00</td>\n      <td>5.112161e+00</td>\n      <td>7.052416e-01</td>\n      <td>3.471230e-01</td>\n      <td>4.972362e-01</td>\n      <td>4.791496e-01</td>\n      <td>4.998262e-01</td>\n      <td>4.876845e-01</td>\n      <td>4.332412e-01</td>\n      <td>2.305193e-02</td>\n      <td>2.305193e-02</td>\n      <td>4.989044e-01</td>\n      <td>4.912085e-01</td>\n      <td>4.976423e-01</td>\n      <td>4.793713e-01</td>\n      <td>3.864567e+01</td>\n    </tr>\n    <tr>\n      <th>min</th>\n      <td>9.213500e+04</td>\n      <td>0.000000e+00</td>\n      <td>0.000000e+00</td>\n      <td>2.013000e+03</td>\n      <td>0.000000e+00</td>\n      <td>0.000000e+00</td>\n      <td>0.000000e+00</td>\n      <td>0.000000e+00</td>\n      <td>0.000000e+00</td>\n      <td>0.000000e+00</td>\n      <td>0.000000e+00</td>\n      <td>0.000000e+00</td>\n      <td>0.000000e+00</td>\n      <td>0.000000e+00</td>\n      <td>0.000000e+00</td>\n      <td>0.000000e+00</td>\n      <td>3.000000e+00</td>\n    </tr>\n    <tr>\n      <th>25%</th>\n      <td>5.489500e+05</td>\n      <td>0.000000e+00</td>\n      <td>0.000000e+00</td>\n      <td>2.016000e+03</td>\n      <td>1.000000e+00</td>\n      <td>0.000000e+00</td>\n      <td>0.000000e+00</td>\n      <td>0.000000e+00</td>\n      <td>0.000000e+00</td>\n      <td>0.000000e+00</td>\n      <td>0.000000e+00</td>\n      <td>0.000000e+00</td>\n      <td>0.000000e+00</td>\n      <td>0.000000e+00</td>\n      <td>0.000000e+00</td>\n      <td>0.000000e+00</td>\n      <td>2.100000e+01</td>\n    </tr>\n    <tr>\n      <th>50%</th>\n      <td>5.756630e+05</td>\n      <td>0.000000e+00</td>\n      <td>0.000000e+00</td>\n      <td>2.016000e+03</td>\n      <td>1.000000e+00</td>\n      <td>1.000000e+00</td>\n      <td>1.000000e+00</td>\n      <td>1.000000e+00</td>\n      <td>1.000000e+00</td>\n      <td>1.000000e+00</td>\n      <td>0.000000e+00</td>\n      <td>0.000000e+00</td>\n      <td>1.000000e+00</td>\n      <td>1.000000e+00</td>\n      <td>0.000000e+00</td>\n      <td>1.000000e+00</td>\n      <td>8.900000e+01</td>\n    </tr>\n    <tr>\n      <th>75%</th>\n      <td>6.813090e+05</td>\n      <td>0.000000e+00</td>\n      <td>0.000000e+00</td>\n      <td>2.016000e+03</td>\n      <td>1.000000e+00</td>\n      <td>1.000000e+00</td>\n      <td>1.000000e+00</td>\n      <td>1.000000e+00</td>\n      <td>1.000000e+00</td>\n      <td>1.000000e+00</td>\n      <td>0.000000e+00</td>\n      <td>0.000000e+00</td>\n      <td>1.000000e+00</td>\n      <td>1.000000e+00</td>\n      <td>1.000000e+00</td>\n      <td>1.000000e+00</td>\n      <td>1.000000e+02</td>\n    </tr>\n    <tr>\n      <th>max</th>\n      <td>1.083162e+06</td>\n      <td>5.000000e+01</td>\n      <td>5.300000e+01</td>\n      <td>2.017000e+03</td>\n      <td>1.000000e+00</td>\n      <td>1.000000e+00</td>\n      <td>1.000000e+00</td>\n      <td>1.000000e+00</td>\n      <td>1.000000e+00</td>\n      <td>1.000000e+00</td>\n      <td>1.000000e+00</td>\n      <td>1.000000e+00</td>\n      <td>1.000000e+00</td>\n      <td>1.000000e+00</td>\n      <td>1.000000e+00</td>\n      <td>1.000000e+00</td>\n      <td>1.060000e+02</td>\n    </tr>\n  </tbody>\n</table>\n</div>"
     },
     "metadata": {},
     "execution_count": 53
    }
   ],
   "source": [
    "df.describe()"
   ]
  },
  {
   "cell_type": "code",
   "execution_count": 54,
   "metadata": {},
   "outputs": [
    {
     "output_type": "execute_result",
     "data": {
      "text/plain": [
       "         incident_id        date    state city_or_county  n_killed  n_injured  \\\n",
       "0             478855  2013-01-01     Ohio         Lorain         1          3   \n",
       "1             478855  2013-01-01     Ohio         Lorain         1          3   \n",
       "2             478855  2013-01-01     Ohio         Lorain         1          3   \n",
       "3             478855  2013-01-01     Ohio         Lorain         1          3   \n",
       "4             478855  2013-01-01     Ohio         Lorain         1          3   \n",
       "...              ...         ...      ...            ...       ...        ...   \n",
       "5331101      1017950  2017-12-23  Montana   Stevensville         0          1   \n",
       "5331102      1017950  2017-12-23  Montana   Stevensville         0          1   \n",
       "5331103      1017950  2017-12-23  Montana   Stevensville         0          1   \n",
       "5331104      1015876  2017-12-28  Montana      Kalispell         0          1   \n",
       "5331105      1015876  2017-12-28  Montana      Kalispell         0          1   \n",
       "\n",
       "                 source latitude longitude n_guns_involved participant_id  \\\n",
       "0         northcoastnow  41.4455  -82.1377             2.0              2   \n",
       "1         northcoastnow  41.4455  -82.1377             2.0              2   \n",
       "2         northcoastnow  41.4455  -82.1377             2.0              2   \n",
       "3         northcoastnow  41.4455  -82.1377             2.0              2   \n",
       "4         northcoastnow  41.4455  -82.1377             2.0              2   \n",
       "...                 ...      ...       ...             ...            ...   \n",
       "5331101             com  46.5115  -114.094             2.0              0   \n",
       "5331102             com  46.5115  -114.094             2.0              0   \n",
       "5331103             com  46.5115  -114.094             2.0              0   \n",
       "5331104  dailyinterlake   48.139  -114.202             1.0              0   \n",
       "5331105  dailyinterlake   48.139  -114.202             1.0              0   \n",
       "\n",
       "        participant_age_group participant_gender participant_status  \\\n",
       "0                   Adult 18+               Male             Killed   \n",
       "1                   Adult 18+               Male             Killed   \n",
       "2                   Adult 18+               Male             Killed   \n",
       "3                   Adult 18+               Male             Killed   \n",
       "4                   Adult 18+               Male             Killed   \n",
       "...                       ...                ...                ...   \n",
       "5331101             Adult 18+               Male            Injured   \n",
       "5331102             Adult 18+               Male            Injured   \n",
       "5331103             Adult 18+               Male            Injured   \n",
       "5331104             Adult 18+               Male            Injured   \n",
       "5331105             Adult 18+               Male            Injured   \n",
       "\n",
       "        participant_type gun_type  year  felony  permit  permith  training  \\\n",
       "0                 Victim    22 LR  2013       0       0        0         0   \n",
       "1                 Victim    22 LR  2013       0       0        0         0   \n",
       "2                 Victim    22 LR  2013       0       0        0         0   \n",
       "3                 Victim    22 LR  2013       0       0        0         0   \n",
       "4                 Victim    22 LR  2013       0       0        0         0   \n",
       "...                  ...      ...   ...     ...     ...      ...       ...   \n",
       "5331101           Victim      9mm  2017       0       0        0         0   \n",
       "5331102           Victim    22 LR  2017       0       0        0         0   \n",
       "5331103           Victim      9mm  2017       0       0        0         0   \n",
       "5331104           Victim    40 SW  2017       0       0        0         0   \n",
       "5331105           Victim    40 SW  2017       0       0        0         0   \n",
       "\n",
       "         age21handgunsale  age18longgunsale  age21longgunsaled  \\\n",
       "0                       1                 1                  0   \n",
       "1                       1                 1                  0   \n",
       "2                       1                 1                  0   \n",
       "3                       1                 1                  0   \n",
       "4                       1                 1                  0   \n",
       "...                   ...               ...                ...   \n",
       "5331101                 0                 0                  0   \n",
       "5331102                 0                 0                  0   \n",
       "5331103                 0                 0                  0   \n",
       "5331104                 0                 0                  0   \n",
       "5331105                 0                 0                  0   \n",
       "\n",
       "         age21longgunsale  age21handgunpossess  age18longgunpossess  \\\n",
       "0                       0                    0                    0   \n",
       "1                       0                    0                    0   \n",
       "2                       0                    0                    0   \n",
       "3                       0                    0                    0   \n",
       "4                       0                    0                    0   \n",
       "...                   ...                  ...                  ...   \n",
       "5331101                 0                    0                    0   \n",
       "5331102                 0                    0                    0   \n",
       "5331103                 0                    0                    0   \n",
       "5331104                 0                    0                    0   \n",
       "5331105                 0                    0                    0   \n",
       "\n",
       "         age21longgunpossess  mentalhealth  lawtotal  \n",
       "0                          0             0        15  \n",
       "1                          0             0        15  \n",
       "2                          0             0        15  \n",
       "3                          0             0        15  \n",
       "4                          0             0        15  \n",
       "...                      ...           ...       ...  \n",
       "5331101                    0             0         4  \n",
       "5331102                    0             0         4  \n",
       "5331103                    0             0         4  \n",
       "5331104                    0             0         4  \n",
       "5331105                    0             0         4  \n",
       "\n",
       "[5187387 rows x 30 columns]"
      ],
      "text/html": "<div>\n<style scoped>\n    .dataframe tbody tr th:only-of-type {\n        vertical-align: middle;\n    }\n\n    .dataframe tbody tr th {\n        vertical-align: top;\n    }\n\n    .dataframe thead th {\n        text-align: right;\n    }\n</style>\n<table border=\"1\" class=\"dataframe\">\n  <thead>\n    <tr style=\"text-align: right;\">\n      <th></th>\n      <th>incident_id</th>\n      <th>date</th>\n      <th>state</th>\n      <th>city_or_county</th>\n      <th>n_killed</th>\n      <th>n_injured</th>\n      <th>source</th>\n      <th>latitude</th>\n      <th>longitude</th>\n      <th>n_guns_involved</th>\n      <th>participant_id</th>\n      <th>participant_age_group</th>\n      <th>participant_gender</th>\n      <th>participant_status</th>\n      <th>participant_type</th>\n      <th>gun_type</th>\n      <th>year</th>\n      <th>felony</th>\n      <th>permit</th>\n      <th>permith</th>\n      <th>training</th>\n      <th>age21handgunsale</th>\n      <th>age18longgunsale</th>\n      <th>age21longgunsaled</th>\n      <th>age21longgunsale</th>\n      <th>age21handgunpossess</th>\n      <th>age18longgunpossess</th>\n      <th>age21longgunpossess</th>\n      <th>mentalhealth</th>\n      <th>lawtotal</th>\n    </tr>\n  </thead>\n  <tbody>\n    <tr>\n      <th>0</th>\n      <td>478855</td>\n      <td>2013-01-01</td>\n      <td>Ohio</td>\n      <td>Lorain</td>\n      <td>1</td>\n      <td>3</td>\n      <td>northcoastnow</td>\n      <td>41.4455</td>\n      <td>-82.1377</td>\n      <td>2.0</td>\n      <td>2</td>\n      <td>Adult 18+</td>\n      <td>Male</td>\n      <td>Killed</td>\n      <td>Victim</td>\n      <td>22 LR</td>\n      <td>2013</td>\n      <td>0</td>\n      <td>0</td>\n      <td>0</td>\n      <td>0</td>\n      <td>1</td>\n      <td>1</td>\n      <td>0</td>\n      <td>0</td>\n      <td>0</td>\n      <td>0</td>\n      <td>0</td>\n      <td>0</td>\n      <td>15</td>\n    </tr>\n    <tr>\n      <th>1</th>\n      <td>478855</td>\n      <td>2013-01-01</td>\n      <td>Ohio</td>\n      <td>Lorain</td>\n      <td>1</td>\n      <td>3</td>\n      <td>northcoastnow</td>\n      <td>41.4455</td>\n      <td>-82.1377</td>\n      <td>2.0</td>\n      <td>2</td>\n      <td>Adult 18+</td>\n      <td>Male</td>\n      <td>Killed</td>\n      <td>Victim</td>\n      <td>22 LR</td>\n      <td>2013</td>\n      <td>0</td>\n      <td>0</td>\n      <td>0</td>\n      <td>0</td>\n      <td>1</td>\n      <td>1</td>\n      <td>0</td>\n      <td>0</td>\n      <td>0</td>\n      <td>0</td>\n      <td>0</td>\n      <td>0</td>\n      <td>15</td>\n    </tr>\n    <tr>\n      <th>2</th>\n      <td>478855</td>\n      <td>2013-01-01</td>\n      <td>Ohio</td>\n      <td>Lorain</td>\n      <td>1</td>\n      <td>3</td>\n      <td>northcoastnow</td>\n      <td>41.4455</td>\n      <td>-82.1377</td>\n      <td>2.0</td>\n      <td>2</td>\n      <td>Adult 18+</td>\n      <td>Male</td>\n      <td>Killed</td>\n      <td>Victim</td>\n      <td>22 LR</td>\n      <td>2013</td>\n      <td>0</td>\n      <td>0</td>\n      <td>0</td>\n      <td>0</td>\n      <td>1</td>\n      <td>1</td>\n      <td>0</td>\n      <td>0</td>\n      <td>0</td>\n      <td>0</td>\n      <td>0</td>\n      <td>0</td>\n      <td>15</td>\n    </tr>\n    <tr>\n      <th>3</th>\n      <td>478855</td>\n      <td>2013-01-01</td>\n      <td>Ohio</td>\n      <td>Lorain</td>\n      <td>1</td>\n      <td>3</td>\n      <td>northcoastnow</td>\n      <td>41.4455</td>\n      <td>-82.1377</td>\n      <td>2.0</td>\n      <td>2</td>\n      <td>Adult 18+</td>\n      <td>Male</td>\n      <td>Killed</td>\n      <td>Victim</td>\n      <td>22 LR</td>\n      <td>2013</td>\n      <td>0</td>\n      <td>0</td>\n      <td>0</td>\n      <td>0</td>\n      <td>1</td>\n      <td>1</td>\n      <td>0</td>\n      <td>0</td>\n      <td>0</td>\n      <td>0</td>\n      <td>0</td>\n      <td>0</td>\n      <td>15</td>\n    </tr>\n    <tr>\n      <th>4</th>\n      <td>478855</td>\n      <td>2013-01-01</td>\n      <td>Ohio</td>\n      <td>Lorain</td>\n      <td>1</td>\n      <td>3</td>\n      <td>northcoastnow</td>\n      <td>41.4455</td>\n      <td>-82.1377</td>\n      <td>2.0</td>\n      <td>2</td>\n      <td>Adult 18+</td>\n      <td>Male</td>\n      <td>Killed</td>\n      <td>Victim</td>\n      <td>22 LR</td>\n      <td>2013</td>\n      <td>0</td>\n      <td>0</td>\n      <td>0</td>\n      <td>0</td>\n      <td>1</td>\n      <td>1</td>\n      <td>0</td>\n      <td>0</td>\n      <td>0</td>\n      <td>0</td>\n      <td>0</td>\n      <td>0</td>\n      <td>15</td>\n    </tr>\n    <tr>\n      <th>...</th>\n      <td>...</td>\n      <td>...</td>\n      <td>...</td>\n      <td>...</td>\n      <td>...</td>\n      <td>...</td>\n      <td>...</td>\n      <td>...</td>\n      <td>...</td>\n      <td>...</td>\n      <td>...</td>\n      <td>...</td>\n      <td>...</td>\n      <td>...</td>\n      <td>...</td>\n      <td>...</td>\n      <td>...</td>\n      <td>...</td>\n      <td>...</td>\n      <td>...</td>\n      <td>...</td>\n      <td>...</td>\n      <td>...</td>\n      <td>...</td>\n      <td>...</td>\n      <td>...</td>\n      <td>...</td>\n      <td>...</td>\n      <td>...</td>\n      <td>...</td>\n    </tr>\n    <tr>\n      <th>5331101</th>\n      <td>1017950</td>\n      <td>2017-12-23</td>\n      <td>Montana</td>\n      <td>Stevensville</td>\n      <td>0</td>\n      <td>1</td>\n      <td>com</td>\n      <td>46.5115</td>\n      <td>-114.094</td>\n      <td>2.0</td>\n      <td>0</td>\n      <td>Adult 18+</td>\n      <td>Male</td>\n      <td>Injured</td>\n      <td>Victim</td>\n      <td>9mm</td>\n      <td>2017</td>\n      <td>0</td>\n      <td>0</td>\n      <td>0</td>\n      <td>0</td>\n      <td>0</td>\n      <td>0</td>\n      <td>0</td>\n      <td>0</td>\n      <td>0</td>\n      <td>0</td>\n      <td>0</td>\n      <td>0</td>\n      <td>4</td>\n    </tr>\n    <tr>\n      <th>5331102</th>\n      <td>1017950</td>\n      <td>2017-12-23</td>\n      <td>Montana</td>\n      <td>Stevensville</td>\n      <td>0</td>\n      <td>1</td>\n      <td>com</td>\n      <td>46.5115</td>\n      <td>-114.094</td>\n      <td>2.0</td>\n      <td>0</td>\n      <td>Adult 18+</td>\n      <td>Male</td>\n      <td>Injured</td>\n      <td>Victim</td>\n      <td>22 LR</td>\n      <td>2017</td>\n      <td>0</td>\n      <td>0</td>\n      <td>0</td>\n      <td>0</td>\n      <td>0</td>\n      <td>0</td>\n      <td>0</td>\n      <td>0</td>\n      <td>0</td>\n      <td>0</td>\n      <td>0</td>\n      <td>0</td>\n      <td>4</td>\n    </tr>\n    <tr>\n      <th>5331103</th>\n      <td>1017950</td>\n      <td>2017-12-23</td>\n      <td>Montana</td>\n      <td>Stevensville</td>\n      <td>0</td>\n      <td>1</td>\n      <td>com</td>\n      <td>46.5115</td>\n      <td>-114.094</td>\n      <td>2.0</td>\n      <td>0</td>\n      <td>Adult 18+</td>\n      <td>Male</td>\n      <td>Injured</td>\n      <td>Victim</td>\n      <td>9mm</td>\n      <td>2017</td>\n      <td>0</td>\n      <td>0</td>\n      <td>0</td>\n      <td>0</td>\n      <td>0</td>\n      <td>0</td>\n      <td>0</td>\n      <td>0</td>\n      <td>0</td>\n      <td>0</td>\n      <td>0</td>\n      <td>0</td>\n      <td>4</td>\n    </tr>\n    <tr>\n      <th>5331104</th>\n      <td>1015876</td>\n      <td>2017-12-28</td>\n      <td>Montana</td>\n      <td>Kalispell</td>\n      <td>0</td>\n      <td>1</td>\n      <td>dailyinterlake</td>\n      <td>48.139</td>\n      <td>-114.202</td>\n      <td>1.0</td>\n      <td>0</td>\n      <td>Adult 18+</td>\n      <td>Male</td>\n      <td>Injured</td>\n      <td>Victim</td>\n      <td>40 SW</td>\n      <td>2017</td>\n      <td>0</td>\n      <td>0</td>\n      <td>0</td>\n      <td>0</td>\n      <td>0</td>\n      <td>0</td>\n      <td>0</td>\n      <td>0</td>\n      <td>0</td>\n      <td>0</td>\n      <td>0</td>\n      <td>0</td>\n      <td>4</td>\n    </tr>\n    <tr>\n      <th>5331105</th>\n      <td>1015876</td>\n      <td>2017-12-28</td>\n      <td>Montana</td>\n      <td>Kalispell</td>\n      <td>0</td>\n      <td>1</td>\n      <td>dailyinterlake</td>\n      <td>48.139</td>\n      <td>-114.202</td>\n      <td>1.0</td>\n      <td>0</td>\n      <td>Adult 18+</td>\n      <td>Male</td>\n      <td>Injured</td>\n      <td>Victim</td>\n      <td>40 SW</td>\n      <td>2017</td>\n      <td>0</td>\n      <td>0</td>\n      <td>0</td>\n      <td>0</td>\n      <td>0</td>\n      <td>0</td>\n      <td>0</td>\n      <td>0</td>\n      <td>0</td>\n      <td>0</td>\n      <td>0</td>\n      <td>0</td>\n      <td>4</td>\n    </tr>\n  </tbody>\n</table>\n<p>5187387 rows × 30 columns</p>\n</div>"
     },
     "metadata": {},
     "execution_count": 54
    }
   ],
   "source": [
    "df"
   ]
  },
  {
   "cell_type": "code",
   "execution_count": null,
   "metadata": {},
   "outputs": [],
   "source": []
  }
 ],
 "metadata": {
  "kernelspec": {
   "name": "python387jvsc74a57bd045697e43c0399c7bfa639e72728dcdde153cc1546a0e407f0f93d2d9e1f7acd5",
   "display_name": "Python 3.8.7 64-bit"
  },
  "language_info": {
   "codemirror_mode": {
    "name": "ipython",
    "version": 3
   },
   "file_extension": ".py",
   "mimetype": "text/x-python",
   "name": "python",
   "nbconvert_exporter": "python",
   "pygments_lexer": "ipython3",
   "version": "3.8.7-final"
  },
  "metadata": {
   "interpreter": {
    "hash": "45697e43c0399c7bfa639e72728dcdde153cc1546a0e407f0f93d2d9e1f7acd5"
   }
  }
 },
 "nbformat": 4,
 "nbformat_minor": 4
}